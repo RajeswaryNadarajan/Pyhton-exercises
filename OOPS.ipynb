{
  "nbformat": 4,
  "nbformat_minor": 0,
  "metadata": {
    "colab": {
      "provenance": [],
      "authorship_tag": "ABX9TyN9PDVrzrmWrqAP5HeXQdlN",
      "include_colab_link": true
    },
    "kernelspec": {
      "name": "python3",
      "display_name": "Python 3"
    },
    "language_info": {
      "name": "python"
    }
  },
  "cells": [
    {
      "cell_type": "markdown",
      "metadata": {
        "id": "view-in-github",
        "colab_type": "text"
      },
      "source": [
        "<a href=\"https://colab.research.google.com/github/RajeswaryNadarajan/Pyhton-exercises/blob/main/OOPS.ipynb\" target=\"_parent\"><img src=\"https://colab.research.google.com/assets/colab-badge.svg\" alt=\"Open In Colab\"/></a>"
      ]
    },
    {
      "cell_type": "code",
      "execution_count": null,
      "metadata": {
        "colab": {
          "base_uri": "https://localhost:8080/"
        },
        "id": "5ixMAhqnf4u3",
        "outputId": "8d9dc317-e05a-43a7-903f-bb9ed7d1dbb0"
      },
      "outputs": [
        {
          "output_type": "stream",
          "name": "stdout",
          "text": [
            "enter unsername: EMC\n",
            "enter password: 123\n",
            "True\n"
          ]
        }
      ],
      "source": [
        "s_username=\"EMC\"\n",
        "s_password=123\n",
        "\n",
        "user_name=input(\"enter unsername: \")\n",
        "password=int(input( \"enter password: \"))\n",
        "\n",
        "def validate(user_name,password):\n",
        "    if user_name==s_username and password==s_password:\n",
        "        return True\n",
        "    else:\n",
        "        return False\n",
        "\n",
        "a=validate(user_name,password)\n",
        "print(a)"
      ]
    },
    {
      "cell_type": "code",
      "source": [
        "\n",
        "class Human:\n",
        "  Name=None\n",
        "  Age=None\n",
        "  gender=None\n",
        "  height=None\n",
        "  weight=None\n",
        "\n",
        "  def sleep(self):\n",
        "    print(self.Name,\"is sleeping\")\n",
        "  def eat(self):\n",
        "    print(self.Name,\"is eating\")\n",
        "  def walk(self):\n",
        "    print(self.Name,\"is not walking\")\n",
        "person=Human()\n",
        "person1=Human()\n",
        "person.Name=\"Rajesh\"\n",
        "person.Age=35\n",
        "person.gender=\"Female\"\n",
        "person.height=5.8\n",
        "person.weight=65\n",
        "\n",
        "\n",
        "person1.Age=10\n",
        "person1.gender=\"MAle\"\n",
        "person1.height=3.8\n",
        "person1.weight=70\n",
        "\n",
        "print(\"Name:\",person.Name)\n",
        "print(\"Age:\",person.Age)\n",
        "print(\"Gender:\",person.gender)\n",
        "print(\"Height:\",person.height)\n",
        "print(\"Weight:\",person.weight)\n",
        "\n",
        "person.sleep()\n",
        "person1.eat()\n",
        "person1.walk()\n",
        "person.walk()\n",
        "\n",
        "print(\"Name:\",person1.Name)\n",
        "print(\"Age:\",person1.Age)\n",
        "print(\"Gender:\",person1.gender)\n",
        "print(\"Height:\",person1.height)\n",
        "print(\"Weight:\",person1.weight)\n"
      ],
      "metadata": {
        "colab": {
          "base_uri": "https://localhost:8080/"
        },
        "id": "tC1Pdg36lhcb",
        "outputId": "7d16007a-a1dd-444b-87ab-61ab3a6e962c"
      },
      "execution_count": 25,
      "outputs": [
        {
          "output_type": "stream",
          "name": "stdout",
          "text": [
            "Name: Rajesh\n",
            "Age: 35\n",
            "Gender: Female\n",
            "Height: 5.8\n",
            "Weight: 65\n",
            "Rajesh is sleeping\n",
            "None is eating\n",
            "None is not walking\n",
            "Rajesh is not walking\n",
            "Name: None\n",
            "Age: 10\n",
            "Gender: MAle\n",
            "Height: 3.8\n",
            "Weight: 70\n"
          ]
        }
      ]
    },
    {
      "cell_type": "code",
      "source": [
        "class student:\n",
        "  name=None\n",
        "\n",
        "  English=None\n",
        "  Maths=None\n",
        "  Science=None\n",
        "  History=None\n",
        "  Geography=None\n",
        "\n",
        "  def total_score(self):\n",
        "    total_sum=self.English+self.Maths+self.Science+self.History+self.Geography\n",
        "    return total_sum\n",
        "\n",
        "marks=student()\n",
        "marks.name=\"Rajes\"\n",
        "marks.English=74\n",
        "marks.Maths=86\n",
        "marks.Science=87\n",
        "marks.History=90\n",
        "marks.Geography=97\n",
        "\n",
        "print(\"Student_Name :\",marks.name)\n",
        "print(\"Total Score:\",marks.total_score())\n",
        "x=max(marks.English,marks.Maths,marks.Science,marks.History,marks.Geography)\n",
        "print(\"The highest score:\",x)\n",
        "y=min(marks.English,marks.Maths,marks.Science,marks.History,marks.Geography)\n",
        "print(\"The lowest score:\",y)\n",
        "\n"
      ],
      "metadata": {
        "colab": {
          "base_uri": "https://localhost:8080/"
        },
        "id": "XTbfnXlzrAoY",
        "outputId": "00e765bf-174a-45bf-f106-3d39b2c3608d"
      },
      "execution_count": 26,
      "outputs": [
        {
          "output_type": "stream",
          "name": "stdout",
          "text": [
            "Student_Name : Rajes\n",
            "Total Score: 434\n",
            "The highest score: 97\n",
            "The lowest score: 74\n"
          ]
        }
      ]
    },
    {
      "cell_type": "code",
      "source": [
        "class Person():\n",
        "  def __init__(self,name,age):\n",
        "    self.Name=name\n",
        "    self.Age=age\n",
        "\n",
        "person1=Person(\"Rajesh\",35)\n",
        "print(person1.Name)\n",
        "print(person1.Age)"
      ],
      "metadata": {
        "id": "L_yQuw6autwX",
        "colab": {
          "base_uri": "https://localhost:8080/"
        },
        "outputId": "a9804d89-e786-44aa-d339-411908c946e0"
      },
      "execution_count": 40,
      "outputs": [
        {
          "output_type": "stream",
          "name": "stdout",
          "text": [
            "Rajesh\n",
            "35\n"
          ]
        }
      ]
    },
    {
      "cell_type": "code",
      "source": [
        "class Test():\n",
        "  def __init__(self,name,age,location):\n",
        "    self.Name=name\n",
        "    self.Age=age\n",
        "    self.Location=location\n",
        "\n",
        "person= Test(\"Rajesh\",35,\"Skudai\")\n",
        "person2= Test(\"Meera\",24,\"JB\")\n",
        "\n",
        "print(\"Name:\",person.Name,\"Age:\",person.Age,\"Location:\",person.Location)\n",
        "print(\"Name:\",person2.Name,\"Age:\",person2.Age,\"Location:\",person2.Location)\n",
        "\n"
      ],
      "metadata": {
        "colab": {
          "base_uri": "https://localhost:8080/"
        },
        "id": "HU5LmmDD1jP2",
        "outputId": "84868cd4-760d-4ef9-c09e-dbaed4bf22de"
      },
      "execution_count": 48,
      "outputs": [
        {
          "output_type": "stream",
          "name": "stdout",
          "text": [
            "Name: Rajesh Age: 35 Location: Skudai\n",
            "Name: Meera Age: 24 Location: JB\n"
          ]
        }
      ]
    },
    {
      "cell_type": "code",
      "source": [
        "class Test_2:\n",
        "  def __init__(self,name,phn,gender):\n",
        "    self.Name=name\n",
        "    self.No=phn\n",
        "    self.Gender=gender\n",
        "\n",
        "\n",
        "data=Test_2(\"Geetha\",123,\"Female\")\n",
        "print(\"Name:\",data.Name,\"& \",\"Phone:\",data.No,\"&\",\"Gender:\",data.Gender)\n"
      ],
      "metadata": {
        "colab": {
          "base_uri": "https://localhost:8080/"
        },
        "id": "zFW1sNKZ6Axc",
        "outputId": "be5ee81a-7bbd-408d-eac8-b72b0cac0ce1"
      },
      "execution_count": 54,
      "outputs": [
        {
          "output_type": "stream",
          "name": "stdout",
          "text": [
            "Name: Geetha &  Phone: 123 & Gender: Female\n"
          ]
        }
      ]
    },
    {
      "cell_type": "code",
      "source": [
        "class daily_routine:\n",
        "  def __init__(self,name,age,time):\n",
        "    self.Name=name\n",
        "    self.Age=age\n",
        "    self.Sleeping_Time=time\n",
        "\n",
        "test=daily_routine(\"Kutty\",10,9)\n",
        "print(test.Sleeping_Time)"
      ],
      "metadata": {
        "colab": {
          "base_uri": "https://localhost:8080/"
        },
        "id": "bu7Vlud66ZP0",
        "outputId": "feea49fe-8bda-4938-d5b5-522b643a9ec0"
      },
      "execution_count": 66,
      "outputs": [
        {
          "output_type": "stream",
          "name": "stdout",
          "text": [
            "9\n"
          ]
        }
      ]
    },
    {
      "cell_type": "code",
      "source": [
        "class Aeroplane:\n",
        "  def __init__(self,a,b):\n",
        "    self.Name=a\n",
        "    self.Time=b\n",
        "  def name(self,tic):\n",
        "    print(\"The flight Name :\",self.Name,\"and the ticket number is\",tic)\n",
        "  def time(self):\n",
        "       print(\"The flight Time:\",self.Time)\n",
        "\n",
        "\n",
        "obj_1=Aeroplane(\"Jet\",\"12:00\")\n",
        "print(obj_1.Name,obj_1.Time)\n",
        "obj_1.time()\n",
        "obj_1.name(\"Q123\")"
      ],
      "metadata": {
        "colab": {
          "base_uri": "https://localhost:8080/"
        },
        "id": "4j8JoRg09g3G",
        "outputId": "1926ca5b-903a-4c87-d81e-d4aab950c134"
      },
      "execution_count": 10,
      "outputs": [
        {
          "output_type": "stream",
          "name": "stdout",
          "text": [
            "Jet 12:00\n",
            "The flight Time: 12:00\n",
            "The flight Name : Jet and the ticket number is Q123\n"
          ]
        }
      ]
    },
    {
      "cell_type": "code",
      "source": [
        "class Dog:\n",
        "    def __init__(self, name, age):\n",
        "        self.name = name\n",
        "        self.age = age\n",
        "\n",
        "    def bark(self):\n",
        "        print(f\"{self.name} is barking\")\n",
        "\n",
        "    def __str__(self):\n",
        "        return f\"Dog(name={self.name}, age={self.age})\"\n",
        "\n",
        "# Creating an instance of the Dog class\n",
        "my_dog = Dog(\"Kutty\", 10)\n",
        "print(my_dog)\n",
        "\n",
        "# Calling the bark method\n",
        "my_dog.bark()"
      ],
      "metadata": {
        "colab": {
          "base_uri": "https://localhost:8080/"
        },
        "id": "khu2ORBKzrO5",
        "outputId": "b42d06c1-06c0-440e-d49a-98bd24e4db98"
      },
      "execution_count": 12,
      "outputs": [
        {
          "output_type": "stream",
          "name": "stdout",
          "text": [
            "Dog(name=Kutty, age=10)\n",
            "Kutty is barking\n"
          ]
        }
      ]
    },
    {
      "cell_type": "code",
      "source": [
        "class Animal:\n",
        "  def __init__(self,walk,drink):\n",
        "    self.walk=walk\n",
        "    self.drink=drink\n",
        "\n",
        "  def show_walk(self):\n",
        "    print(f\"able to walk\")\n",
        "\n",
        "  def show_drink(self):\n",
        "    print(f\"able to drink\")\n",
        "\n",
        "my_animal=Animal(\"walk\",\"Drink\")\n",
        "my_animal.show_walk()\n",
        "my_animal.show_drink()\n",
        "\n",
        "\n",
        "class Doggy(Animal):\n",
        "  def __init__(self,name , age):\n",
        "    self.name=name\n",
        "    self.age=age\n",
        "\n",
        "  def bark(self):\n",
        "    print(f\"{self.name} says WOOF!!!\")\n",
        "\n",
        "  def show_age(self):\n",
        "    print(f\"he is {self.age} years old\")\n",
        "\n",
        "my_dog=Doggy(\"Kutty\",10)\n",
        "print(my_dog)\n",
        "my_dog.bark()\n",
        "my_dog.show_age()\n",
        "my_dog.show_walk()\n",
        "my_dog.show_drink()"
      ],
      "metadata": {
        "colab": {
          "base_uri": "https://localhost:8080/"
        },
        "id": "aSwxFZ6O4g2R",
        "outputId": "dd692369-75fa-467b-f768-827753434771"
      },
      "execution_count": 33,
      "outputs": [
        {
          "output_type": "stream",
          "name": "stdout",
          "text": [
            "able to walk\n",
            "able to drink\n",
            "<__main__.Doggy object at 0x79f314ad9db0>\n",
            "Kutty says WOOF!!!\n",
            "he is 10 years old\n",
            "able to walk\n",
            "able to drink\n"
          ]
        }
      ]
    },
    {
      "cell_type": "code",
      "source": [],
      "metadata": {
        "id": "7s2TIJ125nLD"
      },
      "execution_count": null,
      "outputs": []
    }
  ]
}