{
  "nbformat": 4,
  "nbformat_minor": 0,
  "metadata": {
    "colab": {
      "provenance": [],
      "authorship_tag": "ABX9TyNSAsjm0NvSSkzTcvDHHAFO",
      "include_colab_link": true
    },
    "kernelspec": {
      "name": "python3",
      "display_name": "Python 3"
    },
    "language_info": {
      "name": "python"
    }
  },
  "cells": [
    {
      "cell_type": "markdown",
      "metadata": {
        "id": "view-in-github",
        "colab_type": "text"
      },
      "source": [
        "<a href=\"https://colab.research.google.com/github/RajeswaryNadarajan/Pyhton-exercises/blob/main/pythonclass_if_else.ipynb\" target=\"_parent\"><img src=\"https://colab.research.google.com/assets/colab-badge.svg\" alt=\"Open In Colab\"/></a>"
      ]
    },
    {
      "cell_type": "code",
      "source": [
        "#Take values of length and breadth of a rectangle from user and check if it is square or not.\n",
        "\n",
        "length= int(input(\"enter length of rectangle\"))\n",
        "breadth= int(input(\"enter breadth of rectangle\"))\n",
        "\n",
        "if( length==breadth):\n",
        "   print(\"It's a square\")\n",
        "\n",
        "else :\n",
        "  print (\"It's rectangular\")\n"
      ],
      "metadata": {
        "colab": {
          "base_uri": "https://localhost:8080/"
        },
        "id": "CWn5iZZTyLMA",
        "outputId": "8c2a1ec4-f730-405d-cade-a882f824d739"
      },
      "execution_count": null,
      "outputs": [
        {
          "output_type": "stream",
          "name": "stdout",
          "text": [
            "enter length of rectangle4\n",
            "enter breadth of rectangle5\n",
            "It's rectangular\n"
          ]
        }
      ]
    },
    {
      "cell_type": "code",
      "source": [
        "length= int(input(\"enter length of rectangle\"))\n",
        "breadth= int(input(\"enter breadth of rectangle\"))\n",
        "\n",
        "if( length==breadth):\n",
        "   print(\"It's a square\")\n",
        "\n",
        "elif( length != breadth):\n",
        "   print(\"It's a rectangular\")\n",
        "\n",
        "else :\n",
        "  print (\"Bye\")\n"
      ],
      "metadata": {
        "colab": {
          "base_uri": "https://localhost:8080/"
        },
        "id": "v1DRBKgizePv",
        "outputId": "ae95ede1-d178-4e42-dad8-5ae89aec8867"
      },
      "execution_count": null,
      "outputs": [
        {
          "output_type": "stream",
          "name": "stdout",
          "text": [
            "enter length of rectangle2\n",
            "enter breadth of rectangle2\n",
            "It's a square\n"
          ]
        }
      ]
    },
    {
      "cell_type": "code",
      "source": [
        "length= int(input(\"enter length of rectangle\"))\n",
        "breadth= int(input(\"enter breadth of rectangle\"))\n",
        "\n",
        "if( length==breadth):\n",
        "   print(\"It's a square\")\n",
        "\n",
        "elif( length != breadth):\n",
        "   print(\"It's a rectangular\")\n",
        "\n",
        "else :\n",
        "  print (\"Bye\")\n"
      ],
      "metadata": {
        "colab": {
          "base_uri": "https://localhost:8080/"
        },
        "id": "Dy45tSBmzwPK",
        "outputId": "eb6018ea-5c1d-480c-b05b-b8bb14b0feb2"
      },
      "execution_count": null,
      "outputs": [
        {
          "output_type": "stream",
          "name": "stdout",
          "text": [
            "enter length of rectangle3\n",
            "enter breadth of rectangle7\n",
            "It's a rectangular\n"
          ]
        }
      ]
    },
    {
      "cell_type": "code",
      "source": [
        "#Take two int values from user and print greatest among them.\n",
        "\n",
        "value_1 = int(input(\"enter the first value :\"))\n",
        "\n",
        "value_2 = int(input(\"enter the second value :\"))\n",
        "\n",
        "if (value_1 > value_2):\n",
        "    print(\"value_1 is greater!!\")\n",
        "elif (value_1 < value_2):\n",
        "     print(\"value_2 is greater!!\")\n",
        "\n",
        "else :\n",
        "     print(\" Both values are equal!!\")"
      ],
      "metadata": {
        "colab": {
          "base_uri": "https://localhost:8080/"
        },
        "id": "F144WLzCz1jt",
        "outputId": "b303d563-3d2f-4ec9-ad6c-44665eb58dcb"
      },
      "execution_count": null,
      "outputs": [
        {
          "output_type": "stream",
          "name": "stdout",
          "text": [
            "enter the first value :2\n",
            "enter the second value :4\n",
            "value_2 is greater!!\n"
          ]
        }
      ]
    },
    {
      "cell_type": "code",
      "source": [
        "#Take two int values from user and print greatest among them.\n",
        "\n",
        "value_1 = int(input(\"enter the first value :\"))\n",
        "\n",
        "value_2 = int(input(\"enter the second value :\"))\n",
        "\n",
        "if (value_1 > value_2):\n",
        "    print(\"value_1 is greater!!\")\n",
        "elif (value_1 < value_2):\n",
        "     print(\"value_2 is greater!!\")\n",
        "\n",
        "else :\n",
        "     print(\" Both values are equal!!\")"
      ],
      "metadata": {
        "colab": {
          "base_uri": "https://localhost:8080/"
        },
        "id": "vOemDP670nSu",
        "outputId": "507e1d89-299a-4693-8cf8-6c0e040ab142"
      },
      "execution_count": null,
      "outputs": [
        {
          "output_type": "stream",
          "name": "stdout",
          "text": [
            "enter the first value :2\n",
            "enter the second value :0\n",
            "value_1 is greater!!\n"
          ]
        }
      ]
    },
    {
      "cell_type": "code",
      "source": [
        "#Take two int values from user and print greatest among them.\n",
        "\n",
        "value_1 = int(input(\"enter the first value :\"))\n",
        "\n",
        "value_2 = int(input(\"enter the second value :\"))\n",
        "\n",
        "if (value_1 > value_2):\n",
        "    print(\"value_1 is greater!!\")\n",
        "elif (value_1 < value_2):\n",
        "     print(\"value_2 is greater!!\")\n",
        "\n",
        "else :\n",
        "     print(\" Both values are equal!!\")"
      ],
      "metadata": {
        "colab": {
          "base_uri": "https://localhost:8080/"
        },
        "id": "97uK4iWF0rVH",
        "outputId": "c82902d9-1913-4422-8bb6-f0d2fa8cb1e9"
      },
      "execution_count": null,
      "outputs": [
        {
          "output_type": "stream",
          "name": "stdout",
          "text": [
            "enter the first value :1\n",
            "enter the second value :1\n",
            " Both values are equal!!\n"
          ]
        }
      ]
    },
    {
      "cell_type": "code",
      "source": [
        "\n",
        "#A shop will give discount of 10% if the cost of purchased quantity is more than 1000.Ask user for quantity.Suppose, one unit will cost 100.\n",
        "#Judge and print total cost for user.\n",
        "\n",
        "quantity=int(input(\"Please eneter the quantity : \"))\n",
        "cost= quantity * 100\n",
        "\n",
        "if (cost > 1000):\n",
        "    discount = cost* 0.1\n",
        "    real_price= cost - discount\n",
        "    print( \"Cost after 10% discount!! : \", real_price)\n",
        "\n",
        "else :\n",
        "    print(\" No discount!!\")\n",
        "\n"
      ],
      "metadata": {
        "colab": {
          "base_uri": "https://localhost:8080/"
        },
        "id": "jb1yzSD91f1D",
        "outputId": "ce4b932a-85e9-4850-918a-8790efa7275b"
      },
      "execution_count": null,
      "outputs": [
        {
          "output_type": "stream",
          "name": "stdout",
          "text": [
            "Please eneter the quantity : 450\n",
            "Cost after 10% discount!! :  40500.0\n"
          ]
        }
      ]
    },
    {
      "cell_type": "code",
      "source": [
        "#A company decided to give bonus of 5% to employee if his/her year of service is more than 5 years.\n",
        "#Ask user for their salary and year of service and print the net bonus amount.\n",
        "\n",
        "\n",
        "salary= float(input(\"Please enter your salary : \"))\n",
        "service_year = int(input(\"Please enter your year of service :\"))\n",
        "\n",
        "if (service_year > 5):\n",
        "   bonus= salary*5 /100\n",
        "   new_salary = salary + bonus\n",
        "   print (\"Congrats !! you have 5% of bonus : Your new salary : \",new_salary)\n",
        "\n",
        "else :\n",
        "    print (\" You're not eligible for bonus !!\")\n",
        "\n",
        "\n"
      ],
      "metadata": {
        "colab": {
          "base_uri": "https://localhost:8080/"
        },
        "id": "_w0RD61y31wJ",
        "outputId": "dfefcfbd-df0c-4044-89fc-036bf3f1aea8"
      },
      "execution_count": null,
      "outputs": [
        {
          "output_type": "stream",
          "name": "stdout",
          "text": [
            "Please enter your salary : 40000\n",
            "Please enter your year of service :7\n",
            "Congrats !! you have 5% of bonus : Your new salary :  42000.0\n"
          ]
        }
      ]
    },
    {
      "cell_type": "code",
      "source": [
        "#A company decided to give bonus of 5% to employee if his/her year of service is more than 5 years.\n",
        "#Ask user for their salary and year of service and print the net bonus amount.\n",
        "\n",
        "\n",
        "salary= float(input(\"Please enter your salary : \"))\n",
        "service_year = int(input(\"Please enter your year of service :\"))\n",
        "\n",
        "if (service_year > 5):\n",
        "   bonus= salary*5 /100\n",
        "   new_salary = salary + bonus\n",
        "   print (\" Congrats !! you have 5% of bonus\", new_salary)\n",
        "\n",
        "else :\n",
        "    print (\" You're not eligible for bonus !!\")\n"
      ],
      "metadata": {
        "colab": {
          "base_uri": "https://localhost:8080/"
        },
        "id": "ZT89FVku5ia_",
        "outputId": "f744e14a-b405-446e-a1a4-0133b0966513"
      },
      "execution_count": null,
      "outputs": [
        {
          "output_type": "stream",
          "name": "stdout",
          "text": [
            "Please enter your salary : 4000\n",
            "Please enter your year of service :3\n",
            " You're not eligible for bonus !!\n"
          ]
        }
      ]
    },
    {
      "cell_type": "code",
      "source": [
        "#A school has following rules for grading system:\n",
        "#a. Below 25 - F\n",
        "#b. 25 to 45 - E\n",
        "#c. 45 to 50 - D\n",
        "#d. 50 to 60 - C\n",
        "#e. 60 to 80 - B\n",
        "#f. Above 80 - A\n",
        "#Ask user to enter marks and print the corresponding grade.\n",
        "\n",
        "mark=int(input (\" Please enter your marks ! : \"))\n",
        "\n",
        "if (mark <= 25):\n",
        "   print(\" Grade : F\")\n",
        "\n",
        "elif (mark > 25 and mark <= 45):\n",
        "   print(\" Grade : E\")\n",
        "\n",
        "elif (mark > 45 and mark <= 50):\n",
        "   print(\" Grade : D\")\n",
        "\n",
        "elif (mark > 50 and mark <= 60):\n",
        "   print(\" Grade : C\")\n",
        "\n",
        "elif (mark > 60 and mark <= 80):\n",
        "   print(\" Grade : B\")\n",
        "\n",
        "elif (mark > 60 and mark <= 80):\n",
        "    print(\" Grade : B\")\n",
        "\n",
        "elif (mark > 80 and mark <= 100):\n",
        "    print(\" Grade : A\")\n",
        "\n",
        "\n",
        "else :\n",
        "     print(\"Check your input!!\")\n",
        "\n",
        "\n"
      ],
      "metadata": {
        "colab": {
          "base_uri": "https://localhost:8080/"
        },
        "id": "HyGTAaNe6dJk",
        "outputId": "cb6fd362-574a-4aa7-f575-b5e8baad1f46"
      },
      "execution_count": null,
      "outputs": [
        {
          "output_type": "stream",
          "name": "stdout",
          "text": [
            " Please enter your marks ! : 50\n",
            " Grade : D\n"
          ]
        }
      ]
    },
    {
      "cell_type": "code",
      "source": [
        "# Take input of age of 3 people by user and determine oldest and youngest among them.\n",
        "\n",
        "user_1 = int(input(\" Enter your age user_1: \"))\n",
        "user_2 = int(input(\" Enter your age user_2: \"))\n",
        "user_3 = int(input(\" Enter your age user_3: \"))\n",
        "\n",
        "if ( user_1 > user_2 and user_1 > user_3):\n",
        "    print( \"User_1 is the eldest \")\n",
        "elif ( user_2 > user_1 and user_2 > user_3):\n",
        "    print( \"User_2 is the eldest\")\n",
        "elif ( user_3 > user_1 and user_3 > user_2):\n",
        "    print( \"User_3 is the eldest\")\n",
        "\n",
        "\n",
        "else :\n",
        "    print(\"ALL are equal !!\")\n"
      ],
      "metadata": {
        "colab": {
          "base_uri": "https://localhost:8080/"
        },
        "id": "FnV6hurb9P0X",
        "outputId": "8708c839-ce0e-4a1e-82e2-994c113cddf2"
      },
      "execution_count": null,
      "outputs": [
        {
          "output_type": "stream",
          "name": "stdout",
          "text": [
            " Enter your age user_1: 45\n",
            " Enter your age user_2: 36\n",
            " Enter your age user_3: 67\n",
            "User_3 is the eldest\n"
          ]
        }
      ]
    },
    {
      "cell_type": "code",
      "source": [
        "# Take input of age of 3 people by user and determine oldest and youngest among them.\n",
        "\n",
        "user_1 = int(input(\" Enter your age user_1: \"))\n",
        "user_2 = int(input(\" Enter your age user_2: \"))\n",
        "user_3 = int(input(\" Enter your age user_3: \"))\n",
        "\n",
        "if ( user_1 > user_2 and user_1 > user_3):\n",
        "    print( \"User_1 is the eldest \")\n",
        "elif ( user_2 > user_1 and user_2 > user_3):\n",
        "    print( \"User_2 is the eldest\")\n",
        "elif ( user_3 > user_1 and user_3 > user_2):\n",
        "    print( \"User_3 is the eldest\")\n",
        "\n",
        "\n",
        "else :\n",
        "    print(\"ALL are equal !!\")\n"
      ],
      "metadata": {
        "colab": {
          "base_uri": "https://localhost:8080/"
        },
        "id": "vWfBOBAGAWuf",
        "outputId": "dec51da6-516a-4d0c-8cef-d43bb93b4bab"
      },
      "execution_count": null,
      "outputs": [
        {
          "output_type": "stream",
          "name": "stdout",
          "text": [
            " Enter your age user_1: 33\n",
            " Enter your age user_2: 33\n",
            " Enter your age user_3: 33\n",
            "ALL are equal !!\n"
          ]
        }
      ]
    },
    {
      "cell_type": "code",
      "source": [
        "# Write a program to print absolute vlaue of a number entered by user. E.g.-\n",
        "#INPUT: 1        OUTPUT: 1\n",
        "#INPUT: -1        OUTPUT: 1\n",
        "\n",
        "user_num = int(input(\" Enter a number :\"))\n",
        "result =abs(user_num)\n",
        "print(result)\n",
        "\n"
      ],
      "metadata": {
        "colab": {
          "base_uri": "https://localhost:8080/"
        },
        "id": "NGBLCjnQAiNc",
        "outputId": "eecd8002-dc6d-4be8-b714-986043dd8387"
      },
      "execution_count": null,
      "outputs": [
        {
          "output_type": "stream",
          "name": "stdout",
          "text": [
            " Enter a number :2\n",
            "2\n"
          ]
        }
      ]
    },
    {
      "cell_type": "code",
      "source": [
        "# Write a program to print absolute vlaue of a number entered by user. E.g.-\n",
        "#INPUT: 1        OUTPUT: 1\n",
        "#INPUT: -1        OUTPUT: 1\n",
        "\n",
        "user_num = int(input(\" Enter a number :\"))\n",
        "result =abs(user_num)\n",
        "print(result)"
      ],
      "metadata": {
        "colab": {
          "base_uri": "https://localhost:8080/"
        },
        "id": "90uGKw54BpYn",
        "outputId": "752e930a-4681-448b-e8c9-8f2a65bde640"
      },
      "execution_count": null,
      "outputs": [
        {
          "output_type": "stream",
          "name": "stdout",
          "text": [
            " Enter a number :-2\n",
            "2\n"
          ]
        }
      ]
    },
    {
      "cell_type": "code",
      "source": [
        "# A student will not be allowed to sit in exam if his/her attendence is less than 75%.\n",
        "#Take following input from user\n",
        "# Number of classes held\n",
        "# Number of classes attended.And print percentage of class attended\n",
        "#Is student is allowed to sit in exam or not.\n",
        "\n",
        "attendance_num = int(input(\"Please enter the number of attended classes : \"))\n",
        "\n",
        "percentage = attendance_num / 100\n",
        "\n",
        "if(percentage > 75):\n",
        "  print ( \" Able to sit for exam !!\", percentage)\n",
        "\n",
        "else :\n",
        "   print( \" You can't sit for the exam\", percentage)"
      ],
      "metadata": {
        "colab": {
          "base_uri": "https://localhost:8080/"
        },
        "id": "lQ8oHrqXDGP8",
        "outputId": "c99dfc07-715d-4c0a-912e-026752a8745f"
      },
      "execution_count": null,
      "outputs": [
        {
          "output_type": "stream",
          "name": "stdout",
          "text": [
            "Please enter the number of attended classes :24\n",
            " You can't sit for the exam 0.24\n"
          ]
        }
      ]
    },
    {
      "cell_type": "code",
      "source": [
        "# A student will not be allowed to sit in exam if his/her attendence is less than 75%.\n",
        "#Take following input from user\n",
        "# Number of classes held\n",
        "# Number of classes attended.And print percentage of class attended\n",
        "#Is student is allowed to sit in exam or not.\n",
        "\n",
        "attendance_num = float (input(\"Please enter the number of attended classes : \"))\n",
        "\n",
        "percentage = attendance_num * 100 /100\n",
        "\n",
        "if(percentage > 75):\n",
        "  print ( \" Able to sit for exam !!\", percentage)\n",
        "\n",
        "else :\n",
        "   print( \" You can't sit for the exam\", percentage)"
      ],
      "metadata": {
        "colab": {
          "base_uri": "https://localhost:8080/"
        },
        "id": "BRTX7N5AEb5O",
        "outputId": "c300c90a-bcba-4e06-ca34-255e5fee59d4"
      },
      "execution_count": null,
      "outputs": [
        {
          "output_type": "stream",
          "name": "stdout",
          "text": [
            "Please enter the number of attended classes : 80\n",
            " Able to sit for exam !! 80.0\n"
          ]
        }
      ]
    },
    {
      "cell_type": "code",
      "source": [
        "# Modify the above question to allow student to sit if he/she has medical cause. Ask user if he/she has medical cause or not ( 'Y' or 'N' ) and print accordingly.\n",
        "\n",
        "\n",
        "medical_cause= (input(\"Please enter you've any medical issues or not : \"))\n",
        "\n",
        "if(medical_cause == \"Y\"):\n",
        "  print (\" you're not eligible to sit the exam\")\n",
        "\n",
        "elif(medical_cause == \"N\"):\n",
        "  print (\" you're eligible to sit the exam\")\n",
        "\n",
        "else :\n",
        "   print( \" Check your input !!\")"
      ],
      "metadata": {
        "colab": {
          "base_uri": "https://localhost:8080/"
        },
        "id": "8ngARItKFhm7",
        "outputId": "266c1f4d-aefb-4d79-ab92-f490a1f889c8"
      },
      "execution_count": null,
      "outputs": [
        {
          "output_type": "stream",
          "name": "stdout",
          "text": [
            "Please enter you've any medical issues or not : Y\n",
            " you're not eligible to sit the exam\n"
          ]
        }
      ]
    },
    {
      "cell_type": "code",
      "source": [
        "\n",
        "medical_cause= (input(\"Please enter you've any medical issues or not : \"))\n",
        "\n",
        "if(medical_cause == \"Y\"):\n",
        "  print (\" you're not eligible to sit the exam\")\n",
        "\n",
        "elif(medical_cause == \"N\"):\n",
        "  print (\" you're eligible to sit the exam\")\n",
        "\n",
        "else :\n",
        "   print( \" Check your input !!\")"
      ],
      "metadata": {
        "colab": {
          "base_uri": "https://localhost:8080/"
        },
        "id": "OrV851laGsN5",
        "outputId": "1a2e39e6-f61e-4ffe-c55f-e2d85798f03a"
      },
      "execution_count": null,
      "outputs": [
        {
          "output_type": "stream",
          "name": "stdout",
          "text": [
            "Please enter you've any medical issues or not : N\n",
            " you're eligible to sit the exam\n"
          ]
        }
      ]
    },
    {
      "cell_type": "code",
      "source": [
        "\n",
        "medical_cause= (input(\"Please enter you've any medical issues or not :\"))\n",
        "\n",
        "if(medical_cause == \"Y\"):\n",
        "  print (\" you're not eligible to sit the exam\")\n",
        "\n",
        "elif(medical_cause == \"N\"):\n",
        "  print (\" you're eligible to sit the exam\")\n",
        "\n",
        "else :\n",
        "   print(\"Check your input !!\")"
      ],
      "metadata": {
        "colab": {
          "base_uri": "https://localhost:8080/"
        },
        "id": "oEB6Mj_MGu8s",
        "outputId": "b5765547-a8e0-4a4f-c6f6-a42ab2dd6bf1"
      },
      "execution_count": null,
      "outputs": [
        {
          "output_type": "stream",
          "name": "stdout",
          "text": [
            "Please enter you've any medical issues or not :hello\n",
            "Check your input !!\n"
          ]
        }
      ]
    },
    {
      "cell_type": "code",
      "source": [],
      "metadata": {
        "id": "tkuTsR97G5-T"
      },
      "execution_count": null,
      "outputs": []
    }
  ]
}