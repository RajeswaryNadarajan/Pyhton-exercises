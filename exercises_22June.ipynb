{
  "nbformat": 4,
  "nbformat_minor": 0,
  "metadata": {
    "colab": {
      "provenance": [],
      "authorship_tag": "ABX9TyOiClvQcCyC+Tb3473r7vXG",
      "include_colab_link": true
    },
    "kernelspec": {
      "name": "python3",
      "display_name": "Python 3"
    },
    "language_info": {
      "name": "python"
    }
  },
  "cells": [
    {
      "cell_type": "markdown",
      "metadata": {
        "id": "view-in-github",
        "colab_type": "text"
      },
      "source": [
        "<a href=\"https://colab.research.google.com/github/RajeswaryNadarajan/Pyhton-exercises/blob/main/exercises_22June.ipynb\" target=\"_parent\"><img src=\"https://colab.research.google.com/assets/colab-badge.svg\" alt=\"Open In Colab\"/></a>"
      ]
    },
    {
      "cell_type": "code",
      "execution_count": 11,
      "metadata": {
        "colab": {
          "base_uri": "https://localhost:8080/"
        },
        "id": "Vp4onArwvDiD",
        "outputId": "53b25051-a4e6-4f33-edd9-e22c8612f52c"
      },
      "outputs": [
        {
          "output_type": "stream",
          "name": "stdout",
          "text": [
            "Sum of given list:  15\n"
          ]
        }
      ],
      "source": [
        "#**Problem:** Write a Python function to find the sum of all the numbers in a given list\n",
        "\n",
        "numbers = [1, 2, 3, 4, 5]\n",
        "\n",
        "count=0\n",
        "def get_sum(a):\n",
        "  count=0\n",
        "  for i in numbers:\n",
        "    count=count+i\n",
        "  return count\n",
        "\n",
        "count=get_sum(numbers)\n",
        "print(\"Sum of given list: \",count)\n",
        ""
      ]
    },
    {
      "cell_type": "code",
      "source": [
        "#Write a Python function that takes a list of integers and returns a list containing only the even numbers.\n",
        "\n",
        "list_1= [10, 15, 20, 25, 30]\n",
        "\n",
        "def get_even(b):\n",
        "  even_numbers=[]\n",
        "  for i in b:\n",
        "    if i%2==0:\n",
        "      even_numbers.append(i)\n",
        "  return even_numbers\n",
        "\n",
        "result=get_even(list_1)\n",
        "print(\"Even numbers from list_1 are:\", result)\n",
        "\n"
      ],
      "metadata": {
        "colab": {
          "base_uri": "https://localhost:8080/"
        },
        "id": "eREN--Qrw6_R",
        "outputId": "7f9726d0-8562-4bcc-c00b-bbf21d9f9062"
      },
      "execution_count": 13,
      "outputs": [
        {
          "output_type": "stream",
          "name": "stdout",
          "text": [
            "Even numbers from list_1 are: [10, 20, 30]\n"
          ]
        }
      ]
    },
    {
      "cell_type": "code",
      "source": [
        "#Write a Python function that takes a list and returns a new list with elements in reverse order.\n",
        "\n",
        "list_1= [10, 15, 20, 25, 30]\n",
        "\n",
        "def get_reverse(c):\n",
        "  reverse_order=[]\n",
        "  for i in c[::-1]:\n",
        "    reverse_order.append(i)\n",
        "  return reverse_order\n",
        "\n",
        "res=get_reverse(list_1)\n",
        "print(res)\n",
        "\n"
      ],
      "metadata": {
        "colab": {
          "base_uri": "https://localhost:8080/"
        },
        "id": "TPwMJRkgy0Pg",
        "outputId": "a91d9fb4-a525-4abb-82b6-16ec410212c2"
      },
      "execution_count": 17,
      "outputs": [
        {
          "output_type": "stream",
          "name": "stdout",
          "text": [
            "[30, 25, 20, 15, 10]\n"
          ]
        }
      ]
    },
    {
      "cell_type": "code",
      "source": [
        "#Write a Python function to remove duplicates from a list while preserving the order of the elements\n",
        "\n",
        "list_2=[1, 2, 2, 3, 4, 4, 5]\n",
        "\n",
        "def get_unique(c):\n",
        "  return set(list_2)\n",
        "\n",
        "res=get_unique(list_2)\n",
        "print(res)"
      ],
      "metadata": {
        "colab": {
          "base_uri": "https://localhost:8080/"
        },
        "id": "n8Oittqs1AqI",
        "outputId": "1d9dcb0a-f6ec-4bca-ca70-0f7e9dc479a3"
      },
      "execution_count": 18,
      "outputs": [
        {
          "output_type": "stream",
          "name": "stdout",
          "text": [
            "{1, 2, 3, 4, 5}\n"
          ]
        }
      ]
    },
    {
      "cell_type": "code",
      "source": [
        "#**Problem:** Write a Python function that finds the largest number in a list.\n",
        "\n",
        "numbers_1 = [10, 20, 4, 45, 99]\n",
        "\n",
        "def get_maximum(num):\n",
        "  return max(numbers_1)\n",
        "\n",
        "res_1=get_maximum(numbers_1)\n",
        "print(\"The largest number in given list:\",res_1)\n"
      ],
      "metadata": {
        "colab": {
          "base_uri": "https://localhost:8080/"
        },
        "id": "zCR3OF7j1qxW",
        "outputId": "42737ada-8f1a-4b5e-fb98-84688bd1621d"
      },
      "execution_count": 21,
      "outputs": [
        {
          "output_type": "stream",
          "name": "stdout",
          "text": [
            "The largest number in given list: 99\n"
          ]
        }
      ]
    },
    {
      "cell_type": "code",
      "source": [
        "#**Problem:** Write a Python function that takes a list of strings and returns a list containing the lengths of each string.\n",
        "\n",
        "words = [\"apple\", \"banana\", \"cherry\"]\n",
        "\n",
        "def get_lengths(count):\n",
        "  get_count=[]\n",
        "  for i in words:\n",
        "    get_count.append(len(i))\n",
        "  return get_count\n",
        "\n",
        "new=get_lengths(words)\n",
        "print(new)"
      ],
      "metadata": {
        "colab": {
          "base_uri": "https://localhost:8080/"
        },
        "id": "vCxR53C82RcD",
        "outputId": "bb8dad39-4634-46a9-c742-dcf126dd7469"
      },
      "execution_count": 24,
      "outputs": [
        {
          "output_type": "stream",
          "name": "stdout",
          "text": [
            "[5, 6, 6]\n"
          ]
        }
      ]
    },
    {
      "cell_type": "code",
      "source": [
        "#**Problem:** Write a Python function that merges two lists alternately into a single list.\n",
        "\n",
        "list_11 = [1, 3, 5]\n",
        "list2 = [2, 4, 6]\n",
        "\n",
        "def get_merged(list_11,list2):\n",
        "\n",
        "  merged_list=list_11+list2\n",
        "\n",
        "  return merged_list\n",
        "\n",
        "res=get_merged(list_11,list2)\n",
        "res_1=sorted(res)\n",
        "print(\"merged_list:\",res_1)"
      ],
      "metadata": {
        "colab": {
          "base_uri": "https://localhost:8080/"
        },
        "id": "1z1yLVPS2eON",
        "outputId": "b3888d15-feb7-4892-9903-def094465eb9"
      },
      "execution_count": 31,
      "outputs": [
        {
          "output_type": "stream",
          "name": "stdout",
          "text": [
            "merged_list: [1, 2, 3, 4, 5, 6]\n"
          ]
        }
      ]
    },
    {
      "cell_type": "code",
      "source": [
        "#*Problem:** Write a Python function to find the intersection of two lists (common elements).\n",
        "\n",
        "list_a = [1, 2, 3, 4]\n",
        "list_b = [3, 4, 5, 6]\n",
        "\n",
        "def get_common(lsit_a,list_b):\n",
        "  get_similar=set(list_a).intersection(set(list_b))\n",
        "  return get_similar\n",
        "\n",
        "res_2=get_common(list_a,list_b)\n",
        "print(list(res_2))"
      ],
      "metadata": {
        "colab": {
          "base_uri": "https://localhost:8080/"
        },
        "id": "MiEm3mHf6mLa",
        "outputId": "e29f7e4a-3eb4-498d-8023-f48f5f16cb03"
      },
      "execution_count": 38,
      "outputs": [
        {
          "output_type": "stream",
          "name": "stdout",
          "text": [
            "[3, 4]\n"
          ]
        }
      ]
    },
    {
      "cell_type": "code",
      "source": [
        "#**Problem:** Write a Python function that counts the occurrences of each element in a list and returns a dictionary.\n",
        "def count_occurrences(elements):\n",
        "    count_dict = {}\n",
        "    for i in elements:\n",
        "        if i in count_dict:\n",
        "            count_dict[i] += 1\n",
        "        else:\n",
        "            count_dict[i] = 1\n",
        "    return count_dict\n",
        "\n",
        "# Example usage\n",
        "elements = ['a', 'b', 'a', 'c', 'b', 'a']\n",
        "result = count_occurrences(elements)\n",
        "print(result)"
      ],
      "metadata": {
        "colab": {
          "base_uri": "https://localhost:8080/"
        },
        "id": "_0Qcco4p_B3C",
        "outputId": "1e8b0c2e-612b-4959-9635-39f83cf94ba7"
      },
      "execution_count": 54,
      "outputs": [
        {
          "output_type": "stream",
          "name": "stdout",
          "text": [
            "{'a': 3, 'b': 2, 'c': 1}\n"
          ]
        }
      ]
    },
    {
      "cell_type": "code",
      "source": [
        "#**Problem:** Write a Python function to flatten a nested list (a list of lists) into a single list.\n",
        "\n",
        "def get_flatten(nested_list):\n",
        "    flattened_list = []\n",
        "    for i in nested_list:\n",
        "        for item in i:\n",
        "            flattened_list.append(item)\n",
        "    return flattened_list\n",
        "\n",
        "# Example usage\n",
        "nested_list = [[1, 2], [3, 4], [5, 6]]\n",
        "result =get_flatten(nested_list)\n",
        "print(result)"
      ],
      "metadata": {
        "colab": {
          "base_uri": "https://localhost:8080/"
        },
        "id": "1Zo5bed_uwUk",
        "outputId": "c940c3de-c6ab-4a23-bd51-93b953481afa"
      },
      "execution_count": 2,
      "outputs": [
        {
          "output_type": "stream",
          "name": "stdout",
          "text": [
            "[1, 2, 3, 4, 5, 6]\n"
          ]
        }
      ]
    }
  ]
}