{
  "nbformat": 4,
  "nbformat_minor": 0,
  "metadata": {
    "colab": {
      "provenance": [],
      "authorship_tag": "ABX9TyMKuMOf5VvIGUgOTtMLO/Qo",
      "include_colab_link": true
    },
    "kernelspec": {
      "name": "python3",
      "display_name": "Python 3"
    },
    "language_info": {
      "name": "python"
    }
  },
  "cells": [
    {
      "cell_type": "markdown",
      "metadata": {
        "id": "view-in-github",
        "colab_type": "text"
      },
      "source": [
        "<a href=\"https://colab.research.google.com/github/RajeswaryNadarajan/Pyhton-exercises/blob/main/DateandTIme.ipynb\" target=\"_parent\"><img src=\"https://colab.research.google.com/assets/colab-badge.svg\" alt=\"Open In Colab\"/></a>"
      ]
    },
    {
      "cell_type": "code",
      "execution_count": 6,
      "metadata": {
        "colab": {
          "base_uri": "https://localhost:8080/"
        },
        "id": "tg1LQ4UE4zVj",
        "outputId": "8b8ea10a-860e-489b-d7c3-011842b8ae80"
      },
      "outputs": [
        {
          "output_type": "stream",
          "name": "stdout",
          "text": [
            "2024-04-21 09:02:08.612066\n"
          ]
        }
      ],
      "source": [
        "#1.) Write a Python script to display the various Date Time formats - Go to the editor\n",
        "# a) Current date and time\n",
        "\n",
        "import datetime\n",
        "time = datetime.datetime.now()\n",
        "print(time)"
      ]
    },
    {
      "cell_type": "code",
      "source": [
        "#1.) Write a Python script to display the various Date Time formats - Go to the editor\n",
        " # b) Current year,\n",
        " # b) Current month,\n",
        "\n",
        "print(\"This is Year of \",time.year,end=\" \")\n",
        "print(\"and this is month of \", time.month,\"!!\")\n"
      ],
      "metadata": {
        "colab": {
          "base_uri": "https://localhost:8080/"
        },
        "id": "i2Xg_z5y5FWz",
        "outputId": "d0b00ff9-9cb4-439a-c4b2-3b342c8b5d89"
      },
      "execution_count": 11,
      "outputs": [
        {
          "output_type": "stream",
          "name": "stdout",
          "text": [
            "This is Year of  2024 and this is month of  4 !!\n"
          ]
        }
      ]
    },
    {
      "cell_type": "code",
      "source": [
        "import datetime\n",
        "\n",
        "get_year = 2024\n",
        "get_month= 4\n",
        "get_date =21\n",
        "\n",
        "time_2=datetime.datetime(get_year,get_month,get_date)\n",
        "print('Hi there...today is',time_2)"
      ],
      "metadata": {
        "colab": {
          "base_uri": "https://localhost:8080/"
        },
        "id": "UbjS79qw573L",
        "outputId": "4026816a-ad56-47b5-cc98-c4afd460f7fc"
      },
      "execution_count": 15,
      "outputs": [
        {
          "output_type": "stream",
          "name": "stdout",
          "text": [
            "Hi there...today is 2024-04-21 00:00:00\n"
          ]
        }
      ]
    },
    {
      "cell_type": "code",
      "source": [
        "print(time.strftime(\"Today is %A\"))\n",
        "print(time.strftime(\"This is the month of %B\"))\n",
        "\n"
      ],
      "metadata": {
        "colab": {
          "base_uri": "https://localhost:8080/"
        },
        "id": "rIxoGLFf6pGL",
        "outputId": "e297aed8-7df0-4a9c-a178-2e59e7d51ae1"
      },
      "execution_count": 19,
      "outputs": [
        {
          "output_type": "stream",
          "name": "stdout",
          "text": [
            "Today is Sunday\n",
            "This is the month of April\n",
            " 0\n",
            " 16\n",
            " 112\n"
          ]
        }
      ]
    },
    {
      "cell_type": "code",
      "source": [
        "#Write a Python program to determine whether a given year is a leap year.\n",
        "\n",
        "def leap_year(year):\n",
        "  if (year%4==0 and year%100 !=0 or year % 400==0):\n",
        "    return True\n",
        "  else:\n",
        "    return False\n",
        "\n",
        "year_1 =int(input(\"Enter a year :\"))\n",
        "if leap_year(year_1):\n",
        "  print(f\"{year_1} is a leap year\")\n",
        "else:\n",
        "  print(f\"{year_1} is not a leap year\")\n",
        "\n",
        "year_2 =int(input(\"Enter a year : \"))\n",
        "if leap_year(year_2):\n",
        "  print(f\"{year_2} is a leap year\")\n",
        "else:\n",
        "  print(f\"{year_2} is not a leap year\")\n",
        "\n",
        "\n"
      ],
      "metadata": {
        "colab": {
          "base_uri": "https://localhost:8080/"
        },
        "id": "S6ty0L7_7RcO",
        "outputId": "4ef0a152-3259-4e1e-dee2-dbab04624949"
      },
      "execution_count": 32,
      "outputs": [
        {
          "output_type": "stream",
          "name": "stdout",
          "text": [
            "Enter a year :2015\n",
            "2015 is not a leap year\n",
            "Enter a year : 2016\n",
            "2016 is a leap year\n"
          ]
        }
      ]
    },
    {
      "cell_type": "code",
      "source": [
        "#Write a Python program to subtract five days from current date.\n",
        " #Sample Date :\n",
        " #Current Date : 2015-06-22\n",
        " #5 days before Current Date : 2015-06-17\n",
        "\n",
        "\n",
        "from datetime import date, timedelta\n",
        "\n",
        "date=date.today()-timedelta(5)\n",
        "print(\"5 days before Current Date :\",date)\n",
        "\n",
        "\n"
      ],
      "metadata": {
        "colab": {
          "base_uri": "https://localhost:8080/"
        },
        "id": "-Oxnz5D7BCq2",
        "outputId": "d4368156-543c-4d56-8adc-6fa87824364b"
      },
      "execution_count": 34,
      "outputs": [
        {
          "output_type": "stream",
          "name": "stdout",
          "text": [
            "5 days before Current Date : 2024-04-16\n"
          ]
        }
      ]
    },
    {
      "cell_type": "code",
      "source": [
        "#7.) Write a Python program to print next 5 days starting from today.\n",
        "from datetime import date, timedelta\n",
        "\n",
        "date=date.today() + timedelta(5)\n",
        "print(\"5 days after Current Date :\",date)\n"
      ],
      "metadata": {
        "colab": {
          "base_uri": "https://localhost:8080/"
        },
        "id": "8FOOOXlAB1gv",
        "outputId": "6f7d144f-3c37-41cb-b02b-cbf2a6bdd211"
      },
      "execution_count": 36,
      "outputs": [
        {
          "output_type": "stream",
          "name": "stdout",
          "text": [
            "5 days after  Current Date : 2024-04-26\n"
          ]
        }
      ]
    },
    {
      "cell_type": "code",
      "source": [
        "\n",
        "import calendar\n",
        "\n",
        "# Get the current year and month\n",
        "current_year = calendar.datetime.datetime.now().year\n",
        "current_month = calendar.datetime.datetime.now().month\n",
        "\n",
        "\n",
        "print(calendar.month(current_year, current_month))\n"
      ],
      "metadata": {
        "colab": {
          "base_uri": "https://localhost:8080/"
        },
        "id": "r5aPYV9sCAxh",
        "outputId": "1b568131-5aae-4f57-abcf-b0fba43f6124"
      },
      "execution_count": 37,
      "outputs": [
        {
          "output_type": "stream",
          "name": "stdout",
          "text": [
            "     April 2024\n",
            "Mo Tu We Th Fr Sa Su\n",
            " 1  2  3  4  5  6  7\n",
            " 8  9 10 11 12 13 14\n",
            "15 16 17 18 19 20 21\n",
            "22 23 24 25 26 27 28\n",
            "29 30\n",
            "\n"
          ]
        }
      ]
    },
    {
      "cell_type": "code",
      "source": [
        "# Write a Python program to print yesterday, today, tomorrow.\n",
        "\n",
        "from datetime import date, timedelta\n",
        "\n",
        "get_current_day=datetime.datetime.now()\n",
        "get_yesterday= get_current_day -timedelta(1)\n",
        "get_tomorrow=get_current_day + timedelta(1)\n",
        "\n",
        "print(\"Yesterday was : \",get_yesterday)\n",
        "print(\"Today is : \",get_current_day)\n",
        "print(\"Tomorrow will be \",get_tomorrow)"
      ],
      "metadata": {
        "colab": {
          "base_uri": "https://localhost:8080/"
        },
        "id": "eLzlCPQ5CqGI",
        "outputId": "2c9c0d2f-94ab-4ef8-ce30-e644ac53fc65"
      },
      "execution_count": 41,
      "outputs": [
        {
          "output_type": "stream",
          "name": "stdout",
          "text": [
            "Yesterday was :  2024-04-20 09:51:01.876507\n",
            "Today is :  2024-04-21 09:51:01.876507\n",
            "Tomorrow will be  2024-04-22 09:51:01.876507\n"
          ]
        }
      ]
    },
    {
      "cell_type": "code",
      "source": [
        "today = datetime.date.today()\n",
        "\n",
        "# Calculate yesterday and tomorrow\n",
        "yesterday = today - datetime.timedelta(days=1)\n",
        "tomorrow = today + datetime.timedelta(days=1)\n",
        "\n",
        "# Print the dates\n",
        "print(\"Yesterday:\", yesterday)\n",
        "print(\"Today:\", today)\n",
        "print(\"Tomorrow:\", tomorrow)\n"
      ],
      "metadata": {
        "colab": {
          "base_uri": "https://localhost:8080/"
        },
        "id": "c6eDq405CrTF",
        "outputId": "d51de588-94e0-4853-b8de-70e25ebf93ef"
      },
      "execution_count": 39,
      "outputs": [
        {
          "output_type": "stream",
          "name": "stdout",
          "text": [
            "Yesterday: 2024-04-20\n",
            "Today: 2024-04-21\n",
            "Tomorrow: 2024-04-22\n"
          ]
        }
      ]
    }
  ]
}