{
  "nbformat": 4,
  "nbformat_minor": 0,
  "metadata": {
    "colab": {
      "provenance": [],
      "authorship_tag": "ABX9TyMjRSdR/xLGqAa8dG2MDo5K",
      "include_colab_link": true
    },
    "kernelspec": {
      "name": "python3",
      "display_name": "Python 3"
    },
    "language_info": {
      "name": "python"
    }
  },
  "cells": [
    {
      "cell_type": "markdown",
      "metadata": {
        "id": "view-in-github",
        "colab_type": "text"
      },
      "source": [
        "<a href=\"https://colab.research.google.com/github/RajeswaryNadarajan/Pyhton-exercises/blob/main/Function.ipynb\" target=\"_parent\"><img src=\"https://colab.research.google.com/assets/colab-badge.svg\" alt=\"Open In Colab\"/></a>"
      ]
    },
    {
      "cell_type": "code",
      "execution_count": 4,
      "metadata": {
        "colab": {
          "base_uri": "https://localhost:8080/"
        },
        "id": "xegrUp3IJNGn",
        "outputId": "041eec88-6dde-4622-f3c1-2f1e1a51b260"
      },
      "outputs": [
        {
          "output_type": "stream",
          "name": "stdout",
          "text": [
            "Enter any number from list_1 :5\n",
            "[4, 5]\n"
          ]
        }
      ],
      "source": [
        "#search given number's position  in the provided list\n",
        "\n",
        "list_1 =[1,2,3,4,5,5,6]\n",
        "x=int(input(\"Enter any number from list_1 :\"))\n",
        "list_2 =[]\n",
        "\n",
        "for i in range(0, len(list_1)):\n",
        "  if(list_1[i]==5) :\n",
        "      list_2.append(i)\n",
        "print(list_2)"
      ]
    },
    {
      "cell_type": "code",
      "source": [
        "\n",
        "list_1 =[1,2,3,4,5,5,6]\n",
        "number=6\n",
        "list_2 =[]\n",
        "\n",
        "for i in range(0, len(list_1)):\n",
        "  if(list_1[i]==5) :\n",
        "      list_2.append(i)\n",
        "print(list_2)"
      ],
      "metadata": {
        "colab": {
          "base_uri": "https://localhost:8080/"
        },
        "id": "vrjnHbZ1K0yS",
        "outputId": "0d1cd1d2-43c6-4827-ef72-3d94d4426d41"
      },
      "execution_count": 6,
      "outputs": [
        {
          "output_type": "stream",
          "name": "stdout",
          "text": [
            "[4, 5]\n"
          ]
        }
      ]
    },
    {
      "cell_type": "code",
      "source": [
        "#Write a Python function to find the Max of three numbers.\n",
        "\n",
        "a=int(input(\"Enter the 1st number: \"))\n",
        "b=int(input(\"Enter the 2nd number: \"))\n",
        "c=int(input(\"Enter the 3rd number: \"))\n",
        "\n",
        "def find_max(a,b,c):\n",
        "  get_result=max(a,b,c)\n",
        "  return get_result\n",
        "\n",
        "x= find_max(a,b,c)\n",
        "print(\"The Biggest Number is :\", x)"
      ],
      "metadata": {
        "colab": {
          "base_uri": "https://localhost:8080/"
        },
        "id": "l4U96bLNMKEn",
        "outputId": "8f5d133e-934d-4016-ff5b-5b3bb1510bd3"
      },
      "execution_count": 18,
      "outputs": [
        {
          "output_type": "stream",
          "name": "stdout",
          "text": [
            "Enter the 1st number: 10\n",
            "Enter the 2nd number: 25\n",
            "Enter the 3rd number: 70\n",
            "The biggest number is : 70\n"
          ]
        }
      ]
    },
    {
      "cell_type": "code",
      "source": [
        "#write a python fucntion to sum all the numbers in the list\n",
        "\n",
        "list1=[1,2,3,4,5]\n",
        "def get_sum(a):\n",
        "  test_sum=0\n",
        "  for i in a :\n",
        "    test_sum=test_sum+ i\n",
        "  return test_sum\n",
        "\n",
        "res=get_sum(list1)\n",
        "print(\"The total of list1 : \",res)"
      ],
      "metadata": {
        "colab": {
          "base_uri": "https://localhost:8080/"
        },
        "id": "OPMxuU4CNYT-",
        "outputId": "15b8eabf-bba7-4cda-b8f9-e436d20d44c1"
      },
      "execution_count": 23,
      "outputs": [
        {
          "output_type": "stream",
          "name": "stdout",
          "text": [
            "The total of list1 :  15\n"
          ]
        }
      ]
    },
    {
      "cell_type": "code",
      "source": [
        "#write a python fucntion to sum all the numbers in the list\n",
        "\n",
        "list_1=[]\n",
        "for i in range(0,5):\n",
        "  x=int(input(\"Enter numbers to create list_1 : \"))\n",
        "  list_1.append(x)\n",
        "print(\"list_1 :\",list_1)\n",
        "\n",
        "def get_sum(a):\n",
        "  test_sum=0\n",
        "  for i in a :\n",
        "    test_sum=test_sum+ i\n",
        "  return test_sum\n",
        "\n",
        "res=get_sum(list_1)\n",
        "print(\"The sum of list_1 is : \",res)"
      ],
      "metadata": {
        "colab": {
          "base_uri": "https://localhost:8080/"
        },
        "id": "liXbGBxrRFXF",
        "outputId": "bc6c0912-e2ca-4f49-8098-a21aae3ab58b"
      },
      "execution_count": 31,
      "outputs": [
        {
          "output_type": "stream",
          "name": "stdout",
          "text": [
            "Enter numbers to create list_1 : 12\n",
            "Enter numbers to create list_1 : 12\n",
            "Enter numbers to create list_1 : 35\n",
            "Enter numbers to create list_1 : 28\n",
            "Enter numbers to create list_1 : 10\n",
            "list_1 : [12, 12, 35, 28, 10]\n",
            "The sum of list_1 is :  97\n"
          ]
        }
      ]
    },
    {
      "cell_type": "code",
      "source": [
        "#write a python fucntion to multiply all the numbers in the list\n",
        "\n",
        "list_1=[]\n",
        "for i in range(0,5):\n",
        "  x=int(input(\"Enter numbers to create list_1 : \"))\n",
        "  list_1.append(x)\n",
        "print(\"List_1 :\",list_1)\n",
        "\n",
        "def get_product(a):\n",
        "  test_product= 1\n",
        "  for i in a :\n",
        "    test_product=test_product * i\n",
        "\n",
        "  return test_product\n",
        "\n",
        "res=get_product(list_1)\n",
        "print(\"The sum of product list_1 is : \",res)"
      ],
      "metadata": {
        "colab": {
          "base_uri": "https://localhost:8080/"
        },
        "id": "vGhajBuDU53R",
        "outputId": "b2f825f8-fac4-4457-fcba-649fd6efd5e9"
      },
      "execution_count": 36,
      "outputs": [
        {
          "output_type": "stream",
          "name": "stdout",
          "text": [
            "Enter numbers to create list_1 : 1\n",
            "Enter numbers to create list_1 : 2\n",
            "Enter numbers to create list_1 : 3\n",
            "Enter numbers to create list_1 : 4\n",
            "Enter numbers to create list_1 : 5\n",
            "List_1 : [1, 2, 3, 4, 5]\n",
            "The sum of product list_1 is :  120\n"
          ]
        }
      ]
    },
    {
      "cell_type": "code",
      "source": [
        "#write a program to reverse a string\n",
        "\n",
        "x=input(\"Enter a string : \")\n",
        "\n",
        "def get_reverse(a):\n",
        "   result_1=a[::-1]\n",
        "   return result_1\n",
        "\n",
        "res=get_reverse(x)\n",
        "print(\"reversed order for a given string :\" ,res)\n"
      ],
      "metadata": {
        "colab": {
          "base_uri": "https://localhost:8080/"
        },
        "id": "QgBpxf3MV6VZ",
        "outputId": "c20fbfb7-5768-4e5e-a970-7302d64b8c30"
      },
      "execution_count": 43,
      "outputs": [
        {
          "output_type": "stream",
          "name": "stdout",
          "text": [
            "Enter a string :  Hello World\n",
            "reversed order for a given string : dlroW olleH \n"
          ]
        }
      ]
    },
    {
      "cell_type": "code",
      "source": [
        "# write a program that takes and returns a new list with unique elemnts from the first list\n",
        "\n",
        "list_3= [1,2,2,2,2,3,4,5,6,6,7,10]\n",
        "list_4=[]\n",
        "\n",
        "def unique_ele(b):\n",
        "    get_unique=list(set(list_3))\n",
        "    list_4.append(get_unique)\n",
        "    return get_unique\n",
        "\n",
        "res=unique_ele(list_4)\n",
        "print(\"The Unique Elements of list 3 are :\",res)"
      ],
      "metadata": {
        "colab": {
          "base_uri": "https://localhost:8080/"
        },
        "id": "zgoLarb1YRYt",
        "outputId": "ef3d1b7a-6486-456b-bcd2-bba9a68a7c0a"
      },
      "execution_count": 53,
      "outputs": [
        {
          "output_type": "stream",
          "name": "stdout",
          "text": [
            "The Unique Elements of list 3 are : [1, 2, 3, 4, 5, 6, 7, 10]\n"
          ]
        }
      ]
    },
    {
      "cell_type": "code",
      "source": [
        "\n",
        "list_3= [1,2,2,2,2,3,4,5,6,6,7,10]\n",
        "\n",
        "\n",
        "def unique_ele(b):\n",
        "    get_unique=list(set(list_3))\n",
        "    return get_unique\n",
        "\n",
        "res=unique_ele(list_3)\n",
        "print(\"The Unique Elements of list 3 are :\",res)"
      ],
      "metadata": {
        "colab": {
          "base_uri": "https://localhost:8080/"
        },
        "id": "YUFuDro3ayiH",
        "outputId": "9fa4950a-2529-4bfc-ac52-7fd4aca24fe0"
      },
      "execution_count": 54,
      "outputs": [
        {
          "output_type": "stream",
          "name": "stdout",
          "text": [
            "The Unique Elements of list 3 are : [1, 2, 3, 4, 5, 6, 7, 10]\n"
          ]
        }
      ]
    },
    {
      "cell_type": "code",
      "source": [
        "#write a program to get even numbers from list\n",
        "\n",
        "list_4=[1,2,3,4,5,6,7,8,9,10]\n",
        "\n",
        "def get_even(a):\n",
        "  for i in range(0,11):\n",
        "    if (i % 2==0):\n",
        "      print(i)\n",
        "get_even(list_4)\n"
      ],
      "metadata": {
        "colab": {
          "base_uri": "https://localhost:8080/"
        },
        "id": "mdDFSSJtbJSQ",
        "outputId": "782c70e6-a27e-463a-9fea-4e28d697f8e8"
      },
      "execution_count": 73,
      "outputs": [
        {
          "output_type": "stream",
          "name": "stdout",
          "text": [
            "0\n",
            "2\n",
            "4\n",
            "6\n",
            "8\n",
            "10\n"
          ]
        }
      ]
    },
    {
      "cell_type": "code",
      "source": [],
      "metadata": {
        "id": "btrKWePedjaS"
      },
      "execution_count": null,
      "outputs": []
    }
  ]
}