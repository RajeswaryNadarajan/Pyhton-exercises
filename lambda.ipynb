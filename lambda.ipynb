{
  "nbformat": 4,
  "nbformat_minor": 0,
  "metadata": {
    "colab": {
      "provenance": [],
      "authorship_tag": "ABX9TyMVxnGjBxOp/AkGnpkWP/Vn",
      "include_colab_link": true
    },
    "kernelspec": {
      "name": "python3",
      "display_name": "Python 3"
    },
    "language_info": {
      "name": "python"
    }
  },
  "cells": [
    {
      "cell_type": "markdown",
      "metadata": {
        "id": "view-in-github",
        "colab_type": "text"
      },
      "source": [
        "<a href=\"https://colab.research.google.com/github/RajeswaryNadarajan/Pyhton-exercises/blob/main/lambda.ipynb\" target=\"_parent\"><img src=\"https://colab.research.google.com/assets/colab-badge.svg\" alt=\"Open In Colab\"/></a>"
      ]
    },
    {
      "cell_type": "code",
      "execution_count": 3,
      "metadata": {
        "colab": {
          "base_uri": "https://localhost:8080/"
        },
        "id": "RYqeCQ1oMpFG",
        "outputId": "f10e2c12-2028-40dc-ce44-5d70670c269a"
      },
      "outputs": [
        {
          "output_type": "stream",
          "name": "stdout",
          "text": [
            "22\n"
          ]
        }
      ],
      "source": [
        "def my_function(a):\n",
        "  return lambda x: x* a\n",
        "\n",
        "hello = my_function(2)\n",
        "print(hello(11))"
      ]
    },
    {
      "cell_type": "code",
      "source": [
        "def function (kutty):\n",
        "   return lambda x: x + kutty\n",
        "\n",
        "res= function(34)\n",
        "print(res(20))"
      ],
      "metadata": {
        "colab": {
          "base_uri": "https://localhost:8080/"
        },
        "id": "aD90ImhlM89U",
        "outputId": "691ca930-2fd0-4e86-d044-fe4c7a994c2e"
      },
      "execution_count": 7,
      "outputs": [
        {
          "output_type": "stream",
          "name": "stdout",
          "text": [
            "54\n"
          ]
        }
      ]
    },
    {
      "cell_type": "code",
      "source": [
        "def my_func(c):\n",
        "  return lambda a,b:a+b - c\n",
        "\n",
        "res_1=my_func(8)\n",
        "print(res_1(10,20))"
      ],
      "metadata": {
        "colab": {
          "base_uri": "https://localhost:8080/"
        },
        "id": "TNeX0KMsNfTH",
        "outputId": "b1b561b5-e985-4afb-a51b-60d5027003e7"
      },
      "execution_count": 8,
      "outputs": [
        {
          "output_type": "stream",
          "name": "stdout",
          "text": [
            "22\n"
          ]
        }
      ]
    },
    {
      "cell_type": "code",
      "source": [
        "#map\n",
        "\n",
        "def sum(a):\n",
        "  return a * a\n",
        "\n",
        "list_1=[1,2,3,4]\n",
        "answer=list(map(sum,list_1))\n",
        "print(answer)\n"
      ],
      "metadata": {
        "colab": {
          "base_uri": "https://localhost:8080/"
        },
        "id": "mGUx2dClPFHP",
        "outputId": "cb24297e-5a1a-4265-e4c3-f6433bf7a734"
      },
      "execution_count": 11,
      "outputs": [
        {
          "output_type": "stream",
          "name": "stdout",
          "text": [
            "[1, 4, 9, 16]\n"
          ]
        }
      ]
    },
    {
      "cell_type": "code",
      "source": [
        "# calculate the length of given string\n",
        "\n",
        "def funct(a):\n",
        "  return len(a)\n",
        "\n",
        "list_2=[\"apple\",\"ciku\",\"durian\"]\n",
        "ans=map(funct,list_2)\n",
        "print(list(ans))\n",
        "print(ans)"
      ],
      "metadata": {
        "colab": {
          "base_uri": "https://localhost:8080/"
        },
        "id": "jdaxd3VDUV4D",
        "outputId": "f0a6a600-f896-44db-ae59-7bee2ec1c520"
      },
      "execution_count": 21,
      "outputs": [
        {
          "output_type": "stream",
          "name": "stdout",
          "text": [
            "[5, 4, 6]\n",
            "<map object at 0x7a33d6edc9d0>\n"
          ]
        }
      ]
    },
    {
      "cell_type": "code",
      "source": [
        "# add two list\n",
        "\n",
        "list_a=[1,2,3]\n",
        "list_b=[4,5,6]\n",
        "\n",
        "ans_c=map(lambda x,y:x+y ,list_a,list_b)\n",
        "print(list(ans_c))"
      ],
      "metadata": {
        "colab": {
          "base_uri": "https://localhost:8080/"
        },
        "id": "cKr4osytXZpK",
        "outputId": "b6ab51ab-7387-4f17-99e9-bb868145f7ba"
      },
      "execution_count": 31,
      "outputs": [
        {
          "output_type": "stream",
          "name": "stdout",
          "text": [
            "[5, 7, 9]\n"
          ]
        }
      ]
    },
    {
      "cell_type": "code",
      "source": [
        "list_1=[10,20,30,40,1,2,3]\n",
        "\n",
        "def getvalue(n):\n",
        "  if n>5:\n",
        "    return True\n",
        "  else:\n",
        "    return False\n",
        "\n",
        "ans_1=list(map(getvalue,list_1))\n",
        "print(ans_1)"
      ],
      "metadata": {
        "colab": {
          "base_uri": "https://localhost:8080/"
        },
        "id": "0UiJ0MMiY9r3",
        "outputId": "83237cbf-34f3-488f-aa6a-dc366ce59476"
      },
      "execution_count": 36,
      "outputs": [
        {
          "output_type": "stream",
          "name": "stdout",
          "text": [
            "[True, True, True, True, False, False, False]\n"
          ]
        }
      ]
    },
    {
      "cell_type": "code",
      "source": [
        "#filter\n",
        "list_1=[10,20,30,40,1,2,3]\n",
        "\n",
        "def getvalue(n):\n",
        "  if n>5:\n",
        "    return True\n",
        "  else:\n",
        "    return False\n",
        "\n",
        "ans_1=list(filter(getvalue,list_1))\n",
        "print(ans_1)"
      ],
      "metadata": {
        "colab": {
          "base_uri": "https://localhost:8080/"
        },
        "id": "b5t3VflQbo_Z",
        "outputId": "aac287fd-5319-41ac-fda7-07b390f3d11a"
      },
      "execution_count": 37,
      "outputs": [
        {
          "output_type": "stream",
          "name": "stdout",
          "text": [
            "[10, 20, 30, 40]\n"
          ]
        }
      ]
    },
    {
      "cell_type": "code",
      "source": [
        "ages= [12,16,19,35,54,60,14]\n",
        "\n",
        "def get_age(a):\n",
        "  if a> 18:\n",
        "    return True\n",
        "  else :\n",
        "    return  False\n",
        "\n",
        "ans_2=list(filter(get_age,ages))\n",
        "print(\"Ages that greater than 18  from given list are: \",ans_2)\n"
      ],
      "metadata": {
        "colab": {
          "base_uri": "https://localhost:8080/"
        },
        "id": "nHP9kmWPc5Y4",
        "outputId": "f1457a1c-30e2-4e9d-9c91-12ab76faa47c"
      },
      "execution_count": 52,
      "outputs": [
        {
          "output_type": "stream",
          "name": "stdout",
          "text": [
            "Ages that greater than 18  from given list are:  [19, 35, 54, 60]\n"
          ]
        }
      ]
    },
    {
      "cell_type": "code",
      "source": [
        "#Write a Python program to map a list of numbers to their squares using map().\n",
        "\n",
        "list_1=[2,3,4,5]\n",
        "\n",
        "def square(a):\n",
        "  return a**2\n",
        "ans=tuple(map(square,list_1))\n",
        "print(ans)"
      ],
      "metadata": {
        "colab": {
          "base_uri": "https://localhost:8080/"
        },
        "id": "C_s9rzYFf8ES",
        "outputId": "eb21f2ce-c6f4-4325-c272-f6a32834e520"
      },
      "execution_count": 58,
      "outputs": [
        {
          "output_type": "stream",
          "name": "stdout",
          "text": [
            "(4, 9, 16, 25)\n"
          ]
        }
      ]
    },
    {
      "cell_type": "code",
      "source": [
        "#Write a Python program to filter a list of names and return only the names with a length greater than 5 characters.\n",
        "name=[\"Ramu\",\"Geetha\",\"Suhaila\"]\n",
        "ans_name= tuple(filter(lambda name:len(name)> 5 , name))\n",
        "print(ans_name)\n"
      ],
      "metadata": {
        "colab": {
          "base_uri": "https://localhost:8080/"
        },
        "id": "cfxOHLBhgCxx",
        "outputId": "a585e4ba-2b4b-4299-b030-681f70250cd8"
      },
      "execution_count": 63,
      "outputs": [
        {
          "output_type": "stream",
          "name": "stdout",
          "text": [
            "('Geetha', 'Suhaila')\n"
          ]
        }
      ]
    },
    {
      "cell_type": "code",
      "source": [
        "#Write a Python program to filter a list of numbers and return only the even numbers.\n",
        "\n",
        "list_4= [2,4,5,6,7,8,9,10,12]\n",
        "\n",
        "x=lambda a: a%2==0\n",
        "ans_4= list(filter(x,list_4))\n",
        "print(ans_4)\n",
        "\n"
      ],
      "metadata": {
        "colab": {
          "base_uri": "https://localhost:8080/"
        },
        "id": "af_-uFFiet5i",
        "outputId": "3a054fb2-cd5c-4d12-9b1d-9cdcddb4b0d4"
      },
      "execution_count": 51,
      "outputs": [
        {
          "output_type": "stream",
          "name": "stdout",
          "text": [
            "[2, 4, 6, 8, 10, 12]\n"
          ]
        }
      ]
    },
    {
      "cell_type": "code",
      "source": [
        "#Filter Prime Numbers:\n",
        "#Write a Python program to filter a list of numbers and return only the prime\n",
        "\n",
        "numbers=[1,3,4,5,67,7,8]\n",
        "\n",
        "prime_num=tuple(filter(lambda a: a%2 != 0,numbers))\n",
        "print(prime_num)"
      ],
      "metadata": {
        "colab": {
          "base_uri": "https://localhost:8080/"
        },
        "id": "qsvtpSwTiQ2j",
        "outputId": "ebe6832e-22ee-49dc-e5f2-d290f36b7606"
      },
      "execution_count": 65,
      "outputs": [
        {
          "output_type": "stream",
          "name": "stdout",
          "text": [
            "(1, 3, 5, 67, 7)\n"
          ]
        }
      ]
    },
    {
      "cell_type": "code",
      "source": [
        "strings = [\"apple\", \"banana\", \"orange\", \"kiwi\", \"pineapple\"]\n",
        "\n",
        "\n",
        "string_lengths = tuple(map(len, strings))\n",
        "\n",
        "print(\"Original Strings:\", strings)\n",
        "print(\"Lengths of Strings:\", string_lengths)"
      ],
      "metadata": {
        "colab": {
          "base_uri": "https://localhost:8080/"
        },
        "id": "YkC3wdkCiyap",
        "outputId": "32fc8818-80ce-4c26-e5b6-f58f1a5f52dd"
      },
      "execution_count": 67,
      "outputs": [
        {
          "output_type": "stream",
          "name": "stdout",
          "text": [
            "Original Strings: ['apple', 'banana', 'orange', 'kiwi', 'pineapple']\n",
            "Lengths of Strings: (5, 6, 6, 4, 9)\n"
          ]
        }
      ]
    },
    {
      "cell_type": "code",
      "source": [
        "#Write a Python program to map a list of names to their first letters.\n",
        "\n",
        "name=[\"Rajes\",\"Kutty\",\"Boboy\"]\n",
        "\n",
        "str_len=tuple(map(lambda name : name[0] ,name))\n",
        "print(\"Given Name are :\",name)\n",
        "print(\"The first letters of given names are :\",str_len)"
      ],
      "metadata": {
        "colab": {
          "base_uri": "https://localhost:8080/"
        },
        "id": "e__Epg6DjdjP",
        "outputId": "7a4a6b69-da57-4645-b434-dc47ba447595"
      },
      "execution_count": 73,
      "outputs": [
        {
          "output_type": "stream",
          "name": "stdout",
          "text": [
            "Given Name are : ['Rajes', 'Kutty', 'Boboy']\n",
            "The first letters of given names are : ('R', 'K', 'B')\n"
          ]
        }
      ]
    },
    {
      "cell_type": "code",
      "source": [
        "#Filter Positive Numbers:\n",
        "#Write a Python program to filter a list of numbers and return only the positive numbers.\n",
        "\n",
        "list_positive=[2,3,4,-1,-54]\n",
        "\n",
        "positive=tuple(filter(lambda a: a > 0,list_positive))\n",
        "print(positive)"
      ],
      "metadata": {
        "colab": {
          "base_uri": "https://localhost:8080/"
        },
        "id": "ASnfypfCj39T",
        "outputId": "cf54bd8e-93e5-43d9-c6ca-1cb275bd7054"
      },
      "execution_count": 75,
      "outputs": [
        {
          "output_type": "stream",
          "name": "stdout",
          "text": [
            "(2, 3, 4)\n"
          ]
        }
      ]
    },
    {
      "cell_type": "code",
      "source": [
        "#lambda\n",
        "#Square a Number:\n",
        "#Write a lambda function that takes a number as input and returns its square.\n",
        "\n",
        "num= int(input(\"Enter a number : \"))\n",
        "\n",
        "x=lambda num: num**2\n",
        "res=x(num)\n",
        "print (\"The square of entered number is :\",res)\n"
      ],
      "metadata": {
        "colab": {
          "base_uri": "https://localhost:8080/"
        },
        "id": "-Bt0Y5AqlHCz",
        "outputId": "07d01736-8b01-42bf-ffc6-daa219019cda"
      },
      "execution_count": 80,
      "outputs": [
        {
          "output_type": "stream",
          "name": "stdout",
          "text": [
            "Enter a number : 2\n",
            "The square of entered number is : 4\n"
          ]
        }
      ]
    },
    {
      "cell_type": "code",
      "source": [
        "#Write a lambda function that takes two numbers as input and returns their sum.\n",
        "\n",
        "num_1=int(input(\"Enter the first number : \"))\n",
        "num_2=int(input(\"Enter the second  number : \"))\n",
        "\n",
        "y=lambda x,z: x+z\n",
        "res=y(num_1,num_2)\n",
        "print(\"The sum of num_1 & num_2 is :\",res)\n",
        "\n"
      ],
      "metadata": {
        "colab": {
          "base_uri": "https://localhost:8080/"
        },
        "id": "LZ8945m5l8q1",
        "outputId": "0078e617-45f5-40e5-adf1-f03a2c1dbe5d"
      },
      "execution_count": 84,
      "outputs": [
        {
          "output_type": "stream",
          "name": "stdout",
          "text": [
            "Enter the first number : 23\n",
            "Enter the second  number : 12\n",
            "The sum of num_1 & num_2 is : 35\n"
          ]
        }
      ]
    },
    {
      "cell_type": "code",
      "source": [
        "#Write a lambda function that takes two numbers as input and returns their product.\n",
        "\n",
        "num_1=int(input(\"Enter the first number : \"))\n",
        "num_2=int(input(\"Enter the second  number : \"))\n",
        "\n",
        "y=lambda x,z: x*z\n",
        "res=y(num_1,num_2)\n",
        "print(\"The product of num_1 & num_2 is :\",res)\n"
      ],
      "metadata": {
        "colab": {
          "base_uri": "https://localhost:8080/"
        },
        "id": "o3xYxHAGmzpT",
        "outputId": "11076a36-9c70-4315-b5fb-a060cb5aa9c5"
      },
      "execution_count": 85,
      "outputs": [
        {
          "output_type": "stream",
          "name": "stdout",
          "text": [
            "Enter the first number : 2\n",
            "Enter the second  number : 3\n",
            "The product of num_1 & num_2 is : 6\n"
          ]
        }
      ]
    },
    {
      "cell_type": "code",
      "source": [
        "#Write a lambda function that takes a number as input and returns True if it's even, False\n",
        "\n",
        "\n",
        "is_even= lambda a: a %2==0\n",
        "\n",
        "print(is_even(2))\n",
        "print(is_even(5))\n",
        "\n",
        "\n"
      ],
      "metadata": {
        "colab": {
          "base_uri": "https://localhost:8080/"
        },
        "id": "RFGEEf_OnAzb",
        "outputId": "e9e4749c-ec66-4d92-e875-9a0f43c92fba"
      },
      "execution_count": 88,
      "outputs": [
        {
          "output_type": "stream",
          "name": "stdout",
          "text": [
            "True\n",
            "False\n"
          ]
        }
      ]
    },
    {
      "cell_type": "code",
      "source": [
        "#Write a lambda function that takes a string as input and returns its reverse.\n",
        "\n",
        "str=input(\"Enetr a word :\")\n",
        "is_reverse=lambda a: a[::-1]\n",
        "\n",
        "reverse=is_reverse(str)\n",
        "print(\"The reverse version of given string is :\", reverse)\n"
      ],
      "metadata": {
        "colab": {
          "base_uri": "https://localhost:8080/"
        },
        "id": "7GfwoTpooDcP",
        "outputId": "763c13c6-4180-4d19-9534-2bd7666473f0"
      },
      "execution_count": 91,
      "outputs": [
        {
          "output_type": "stream",
          "name": "stdout",
          "text": [
            "Enetr a word :Hello World\n",
            "The reverse version of given string is : dlroW olleH\n"
          ]
        }
      ]
    },
    {
      "cell_type": "code",
      "source": [
        "#Write a lambda function that takes a year as input and returns True if it's a leap year, False otherwise.\n",
        "\n",
        "leap_year = lambda year: (year % 4 == 0 and year % 100 != 0) or (year % 400 == 0)\n",
        "print(leap_year (2024))\n",
        "print(leap_year (2015))"
      ],
      "metadata": {
        "colab": {
          "base_uri": "https://localhost:8080/"
        },
        "id": "l4ka3K30o5XO",
        "outputId": "213ca62a-1756-417b-b194-79fd37eb6aef"
      },
      "execution_count": 92,
      "outputs": [
        {
          "output_type": "stream",
          "name": "stdout",
          "text": [
            "True\n",
            "False\n"
          ]
        }
      ]
    }
  ]
}