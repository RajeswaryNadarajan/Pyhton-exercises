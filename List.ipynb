{
  "nbformat": 4,
  "nbformat_minor": 0,
  "metadata": {
    "colab": {
      "provenance": [],
      "authorship_tag": "ABX9TyOOzhOIPqA5ERPqX2I4Ufjp",
      "include_colab_link": true
    },
    "kernelspec": {
      "name": "python3",
      "display_name": "Python 3"
    },
    "language_info": {
      "name": "python"
    }
  },
  "cells": [
    {
      "cell_type": "markdown",
      "metadata": {
        "id": "view-in-github",
        "colab_type": "text"
      },
      "source": [
        "<a href=\"https://colab.research.google.com/github/RajeswaryNadarajan/Pyhton-exercises/blob/main/List.ipynb\" target=\"_parent\"><img src=\"https://colab.research.google.com/assets/colab-badge.svg\" alt=\"Open In Colab\"/></a>"
      ]
    },
    {
      "cell_type": "code",
      "execution_count": 5,
      "metadata": {
        "colab": {
          "base_uri": "https://localhost:8080/"
        },
        "id": "WF8ZaGxtSDlM",
        "outputId": "3256f5cf-7063-4c53-ab62-9afdccadfb9e"
      },
      "outputs": [
        {
          "output_type": "stream",
          "name": "stdout",
          "text": [
            "0\n",
            "[10, 20, 30, 40]\n"
          ]
        }
      ],
      "source": [
        "#if you have an empty list, you want to add data\n",
        "\n",
        "list3=[]\n",
        "print(len(list3))\n",
        "list3.append(10)\n",
        "list3.append(20)\n",
        "list3.append(30)\n",
        "list3.append(40)\n",
        "print(list3)"
      ]
    },
    {
      "cell_type": "code",
      "source": [
        "#remove number from  list\n",
        "result1=list3.remove(30)\n",
        "print(list3)"
      ],
      "metadata": {
        "colab": {
          "base_uri": "https://localhost:8080/"
        },
        "id": "jJLN_7PnTUzu",
        "outputId": "049ebc2f-17c5-4b5c-8b57-8b81a4c8f80a"
      },
      "execution_count": 11,
      "outputs": [
        {
          "output_type": "stream",
          "name": "stdout",
          "text": [
            "[10, 40]\n"
          ]
        }
      ]
    },
    {
      "cell_type": "code",
      "source": [
        "print(list3)"
      ],
      "metadata": {
        "colab": {
          "base_uri": "https://localhost:8080/"
        },
        "id": "ooWdQ_e7UN4r",
        "outputId": "6e6d89a2-7ff5-4be1-823d-f218d725f015"
      },
      "execution_count": 12,
      "outputs": [
        {
          "output_type": "stream",
          "name": "stdout",
          "text": [
            "[10, 40]\n"
          ]
        }
      ]
    },
    {
      "cell_type": "code",
      "source": [
        "list2=[34,40,50]\n",
        "print(list2)\n",
        "list2.append(60)\n",
        "print(list2)\n"
      ],
      "metadata": {
        "colab": {
          "base_uri": "https://localhost:8080/"
        },
        "id": "FFMcRtwRUUpn",
        "outputId": "810e8a0e-4d02-43fa-b881-5f243c309c68"
      },
      "execution_count": 16,
      "outputs": [
        {
          "output_type": "stream",
          "name": "stdout",
          "text": [
            "[34, 40, 50]\n",
            "[34, 40, 50, 60]\n"
          ]
        }
      ]
    },
    {
      "cell_type": "code",
      "source": [
        "list2.remove(34)\n",
        "print(list2)"
      ],
      "metadata": {
        "colab": {
          "base_uri": "https://localhost:8080/"
        },
        "id": "pbKH3z72UvUK",
        "outputId": "de950979-5edc-442a-ff4e-e9a359a87483"
      },
      "execution_count": 17,
      "outputs": [
        {
          "output_type": "stream",
          "name": "stdout",
          "text": [
            "[40, 50, 60]\n"
          ]
        }
      ]
    },
    {
      "cell_type": "code",
      "source": [
        "list4=[10,20,30,40,50,60,70]\n",
        "for i in range (0,7):\n",
        "  print(list4[i])"
      ],
      "metadata": {
        "colab": {
          "base_uri": "https://localhost:8080/"
        },
        "id": "AnMkpPYpVaHg",
        "outputId": "72708763-757e-48d6-88c3-1f2d179da758"
      },
      "execution_count": 20,
      "outputs": [
        {
          "output_type": "stream",
          "name": "stdout",
          "text": [
            "10\n",
            "20\n",
            "30\n",
            "40\n",
            "50\n",
            "60\n",
            "70\n"
          ]
        }
      ]
    },
    {
      "cell_type": "code",
      "source": [
        "list4=[10,20,30,40,50,60,70]\n",
        "for i in range (0,7):\n",
        "  print(list4[-i])"
      ],
      "metadata": {
        "colab": {
          "base_uri": "https://localhost:8080/"
        },
        "id": "F1CraggVV7K0",
        "outputId": "759a9bf8-ae02-4dc5-b0ae-e1f2b13f00f6"
      },
      "execution_count": 26,
      "outputs": [
        {
          "output_type": "stream",
          "name": "stdout",
          "text": [
            "10\n",
            "70\n",
            "60\n",
            "50\n",
            "40\n",
            "30\n",
            "20\n"
          ]
        }
      ]
    },
    {
      "cell_type": "code",
      "source": [
        "list5=[1,2,3,4,5,6]\n",
        "test_sum = 0\n",
        "for i in range(0,6):\n",
        "  test_sum =  test_sum + list5[i]\n",
        "print(test_sum)\n",
        "\n"
      ],
      "metadata": {
        "colab": {
          "base_uri": "https://localhost:8080/"
        },
        "id": "MG9x1811ZOfO",
        "outputId": "558d9d92-0117-482f-82fd-6ce0375a0448"
      },
      "execution_count": 35,
      "outputs": [
        {
          "output_type": "stream",
          "name": "stdout",
          "text": [
            "21\n"
          ]
        }
      ]
    },
    {
      "cell_type": "code",
      "source": [
        "list_a =[1,2,3,4,5,6,7]\n",
        "test_sum = 0\n",
        "for i in range (0,7):\n",
        "    test_sum = test_sum + list_a[i]\n",
        "print(test_sum)"
      ],
      "metadata": {
        "colab": {
          "base_uri": "https://localhost:8080/"
        },
        "id": "bud42fsubi03",
        "outputId": "395f67aa-016e-4dbf-cc77-961597f526b9"
      },
      "execution_count": 37,
      "outputs": [
        {
          "output_type": "stream",
          "name": "stdout",
          "text": [
            "28\n"
          ]
        }
      ]
    },
    {
      "cell_type": "code",
      "source": [
        "list_b=[\"Science\",\"Maths\",3,8]\n",
        "print(\"Value available in at index 3 is number :\",list_b[3])"
      ],
      "metadata": {
        "colab": {
          "base_uri": "https://localhost:8080/"
        },
        "id": "LeK5w0lXl0rR",
        "outputId": "af86fae4-1bc8-496a-abf6-d6cf41eb3563"
      },
      "execution_count": 5,
      "outputs": [
        {
          "output_type": "stream",
          "name": "stdout",
          "text": [
            "Value available in at index 3 is number : 8\n"
          ]
        }
      ]
    },
    {
      "cell_type": "code",
      "source": [
        "list_b[1]= \"English\"\n",
        "print(list_b)"
      ],
      "metadata": {
        "colab": {
          "base_uri": "https://localhost:8080/"
        },
        "id": "l4VEbNo9mLsW",
        "outputId": "27e10258-ab18-4a69-8c0a-dea72224fb4e"
      },
      "execution_count": 6,
      "outputs": [
        {
          "output_type": "stream",
          "name": "stdout",
          "text": [
            "['Science', 'English', 3, 8]\n"
          ]
        }
      ]
    },
    {
      "cell_type": "code",
      "source": [
        "#delete index number\n",
        "list_c=[\"hello\",\"hi\",78,56]\n",
        "del list_c[1]\n",
        "print(list_c)"
      ],
      "metadata": {
        "colab": {
          "base_uri": "https://localhost:8080/"
        },
        "id": "N8psB1F-nQ5Z",
        "outputId": "96e1f2f8-955c-44d1-cba3-d3cdb816f894"
      },
      "execution_count": 7,
      "outputs": [
        {
          "output_type": "stream",
          "name": "stdout",
          "text": [
            "['hello', 78, 56]\n"
          ]
        }
      ]
    },
    {
      "cell_type": "code",
      "source": [
        "list_12=[1,2,3,3,4,5,6]\n",
        "test_sum = 0\n",
        "for i in range(0,7):\n",
        "   test_sum= test_sum + list_12[i]\n",
        "print(test_sum)"
      ],
      "metadata": {
        "colab": {
          "base_uri": "https://localhost:8080/"
        },
        "id": "nxfbFTLJoBYW",
        "outputId": "76f71d85-50ed-4085-cb86-dfd3c897902c"
      },
      "execution_count": 9,
      "outputs": [
        {
          "output_type": "stream",
          "name": "stdout",
          "text": [
            "24\n"
          ]
        }
      ]
    },
    {
      "cell_type": "code",
      "source": [
        "#print maximum & minimum number in the list\n",
        "print(max(list_12))\n",
        "print(min(list_12))"
      ],
      "metadata": {
        "colab": {
          "base_uri": "https://localhost:8080/"
        },
        "id": "bQ70NngKoeJx",
        "outputId": "2774f0f9-6748-4e32-dbbe-8a20c9adaa3f"
      },
      "execution_count": 13,
      "outputs": [
        {
          "output_type": "stream",
          "name": "stdout",
          "text": [
            "6\n",
            "1\n"
          ]
        }
      ]
    },
    {
      "cell_type": "code",
      "source": [
        "list_12.reverse()\n",
        "print(list_12)"
      ],
      "metadata": {
        "colab": {
          "base_uri": "https://localhost:8080/"
        },
        "id": "x4TG6cMBowUZ",
        "outputId": "909ba6c7-3718-4c5e-ff67-493119f543ef"
      },
      "execution_count": 18,
      "outputs": [
        {
          "output_type": "stream",
          "name": "stdout",
          "text": [
            "[1, 2, 3, 3, 4, 5, 6]\n"
          ]
        }
      ]
    },
    {
      "cell_type": "code",
      "source": [
        "hello= [1,2,3,4,5,6,7,8,9,10]\n",
        "hello.reverse()\n",
        "print(hello)"
      ],
      "metadata": {
        "colab": {
          "base_uri": "https://localhost:8080/"
        },
        "id": "h92-d3ZMrHCE",
        "outputId": "aad2c43d-0490-4eff-e627-cbf4b4adee32"
      },
      "execution_count": 19,
      "outputs": [
        {
          "output_type": "stream",
          "name": "stdout",
          "text": [
            "[10, 9, 8, 7, 6, 5, 4, 3, 2, 1]\n"
          ]
        }
      ]
    },
    {
      "cell_type": "code",
      "source": [
        "#sort(), ascending_order\n",
        "\n",
        "Hi=[6,2,4,90,16]\n",
        "Hi.sort()\n",
        "print(Hi)"
      ],
      "metadata": {
        "colab": {
          "base_uri": "https://localhost:8080/"
        },
        "id": "fBr4DSG5rlaT",
        "outputId": "99006abd-fbb7-4a17-9597-8e846a0a4d33"
      },
      "execution_count": 20,
      "outputs": [
        {
          "output_type": "stream",
          "name": "stdout",
          "text": [
            "[2, 4, 6, 16, 90]\n"
          ]
        }
      ]
    },
    {
      "cell_type": "code",
      "source": [
        "# decsending_order\n",
        "Hi.sort(reverse=True)\n",
        "print(Hi)"
      ],
      "metadata": {
        "colab": {
          "base_uri": "https://localhost:8080/"
        },
        "id": "687HKem0r9Vi",
        "outputId": "88385ce6-77aa-451a-8e96-e452cb964d68"
      },
      "execution_count": 22,
      "outputs": [
        {
          "output_type": "stream",
          "name": "stdout",
          "text": [
            "[90, 16, 6, 4, 2]\n"
          ]
        }
      ]
    },
    {
      "cell_type": "code",
      "source": [
        "#insert value\n",
        "\n",
        "list_12.insert(2,14)\n",
        "print(list_12)"
      ],
      "metadata": {
        "colab": {
          "base_uri": "https://localhost:8080/"
        },
        "id": "_43da2bRscuG",
        "outputId": "c0ea5c2b-9b84-43ef-8ac7-d588e44da16b"
      },
      "execution_count": 24,
      "outputs": [
        {
          "output_type": "stream",
          "name": "stdout",
          "text": [
            "[1, 2, 14, 3, 3, 4, 5, 6]\n"
          ]
        }
      ]
    },
    {
      "cell_type": "code",
      "source": [],
      "metadata": {
        "id": "WMy3p8cZtQ3l"
      },
      "execution_count": null,
      "outputs": []
    }
  ]
}