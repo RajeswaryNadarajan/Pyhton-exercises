{
  "nbformat": 4,
  "nbformat_minor": 0,
  "metadata": {
    "colab": {
      "provenance": [],
      "authorship_tag": "ABX9TyP61lU2EzhbQfijtiUe9o64",
      "include_colab_link": true
    },
    "kernelspec": {
      "name": "python3",
      "display_name": "Python 3"
    },
    "language_info": {
      "name": "python"
    }
  },
  "cells": [
    {
      "cell_type": "markdown",
      "metadata": {
        "id": "view-in-github",
        "colab_type": "text"
      },
      "source": [
        "<a href=\"https://colab.research.google.com/github/RajeswaryNadarajan/Pyhton-exercises/blob/main/if__else.ipynb\" target=\"_parent\"><img src=\"https://colab.research.google.com/assets/colab-badge.svg\" alt=\"Open In Colab\"/></a>"
      ]
    },
    {
      "cell_type": "code",
      "execution_count": 1,
      "metadata": {
        "colab": {
          "base_uri": "https://localhost:8080/"
        },
        "id": "63CFib3glbgy",
        "outputId": "96cb7099-21ae-44ea-8632-1f3caab8c744"
      },
      "outputs": [
        {
          "output_type": "stream",
          "name": "stdout",
          "text": [
            "third\n"
          ]
        }
      ],
      "source": [
        "first_number=40\n",
        "second_number=20\n",
        "if(first_number<second_number):\n",
        "  print(\"first\")\n",
        "elif(second_number>first_number):\n",
        "  print(\"Second\")\n",
        "else:\n",
        "  print(\"third\")"
      ]
    },
    {
      "cell_type": "code",
      "source": [
        "#Take values of length and breadth of a rectangle from user and check if it is square or not.\n",
        "\n",
        "length=int(input(\"Enter the lenght value: \"))\n",
        "breadth =int(input(\"Enter the breadth value: \"))\n",
        "\n",
        "if(length==breadth):\n",
        "  print(\"It's Square\")\n",
        "else:\n",
        "  print(\"It's Rectangle\")"
      ],
      "metadata": {
        "colab": {
          "base_uri": "https://localhost:8080/"
        },
        "id": "awCOqYbPmGo8",
        "outputId": "ff159879-8fba-49c3-b36f-cd181e426ab4"
      },
      "execution_count": 3,
      "outputs": [
        {
          "output_type": "stream",
          "name": "stdout",
          "text": [
            "Enter the lenght value: 4\n",
            "Enter the breadth value: 3\n",
            "It's Rectangle\n"
          ]
        }
      ]
    },
    {
      "cell_type": "code",
      "source": [
        "first_number=int(input(\"Enter the first_number: \"))\n",
        "second_number=int(input(\"Enter the second_number: \"))\n",
        "\n",
        "if(first_number > second_number):\n",
        "  print(\"The first_number is greater!! \")\n",
        "elif(first_number < second_number):\n",
        "  print(\"The second number is greater \")\n",
        "else:\n",
        "  print(\"Both are equal\")# Take two int values from user and print greatest among them.\n",
        "\n"
      ],
      "metadata": {
        "colab": {
          "base_uri": "https://localhost:8080/"
        },
        "id": "gI88_m0bozL1",
        "outputId": "7c352189-169c-4d59-dbf6-4589a06824b2"
      },
      "execution_count": 4,
      "outputs": [
        {
          "output_type": "stream",
          "name": "stdout",
          "text": [
            "Enter the first_number: 5\n",
            "Enter the second_number: 4\n",
            "The first_number is greater!! \n"
          ]
        }
      ]
    },
    {
      "cell_type": "code",
      "source": [
        "first_number=int(input(\"Enter the first_number: \"))\n",
        "second_number=int(input(\"Enter the second_number: \"))\n",
        "\n",
        "if(first_number > second_number):\n",
        "  print(\"The first_number is greater!! \")\n",
        "elif(first_number < second_number):\n",
        "  print(\"The second number is greater \")\n",
        "else:\n",
        "  print(\"Both are equal\")"
      ],
      "metadata": {
        "colab": {
          "base_uri": "https://localhost:8080/"
        },
        "id": "SC9F9awOqrxb",
        "outputId": "6d58c2da-0f23-4091-964c-2aff89e9c0c1"
      },
      "execution_count": 5,
      "outputs": [
        {
          "output_type": "stream",
          "name": "stdout",
          "text": [
            "Enter the first_number: 3\n",
            "Enter the second_number: 5\n",
            "The second number is greater \n"
          ]
        }
      ]
    },
    {
      "cell_type": "code",
      "source": [
        "first_number=int(input(\"Enter the first_number: \"))\n",
        "second_number=int(input(\"Enter the second_number: \"))\n",
        "\n",
        "if(first_number > second_number):\n",
        "  print(\"The first_number is greater!! \")\n",
        "elif(first_number < second_number):\n",
        "  print(\"The second number is greater \")\n",
        "else:\n",
        "  print(\"Both are equal\")\n",
        ""
      ],
      "metadata": {
        "colab": {
          "base_uri": "https://localhost:8080/"
        },
        "id": "YxNIgRP_qww4",
        "outputId": "d677b46d-d038-48fb-a075-21969353bbda"
      },
      "execution_count": 6,
      "outputs": [
        {
          "output_type": "stream",
          "name": "stdout",
          "text": [
            "Enter the first_number: 2\n",
            "Enter the second_number: 2\n",
            "Both are equal\n"
          ]
        }
      ]
    },
    {
      "cell_type": "code",
      "source": [
        " #A shop will give discount of 10% if the cost of purchased quantity is more than 1000.Ask user for quantity,#Suppose, one unit will cost 100.\n",
        "# Judge and print total cost for user.\n",
        "\n",
        "\n",
        "quantity=int(input(\"Enter the purchased quantity: \"))\n",
        "cost=quantity * 100\n",
        "if (cost > 1000):\n",
        "    discount = cost * 0.1\n",
        "    real_price= cost-discount\n",
        "    print(real_price)\n",
        "else:\n",
        "  print(\"No discount!!!\")"
      ],
      "metadata": {
        "colab": {
          "base_uri": "https://localhost:8080/"
        },
        "id": "Fi2nPh2Aqxw8",
        "outputId": "36cbf6f9-aa13-45a7-82be-7db3dadb14df"
      },
      "execution_count": 14,
      "outputs": [
        {
          "output_type": "stream",
          "name": "stdout",
          "text": [
            "Enter the purchased quantity: 13\n",
            "1170.0\n"
          ]
        }
      ]
    },
    {
      "cell_type": "code",
      "source": [
        "#A company decided to give bonus of 5% to employee if his/her year of service is more than 5 years.\n",
        "#Ask user for their salary and year of service and print the net bonus amount.\n",
        "\n",
        "service_year=int(input(\"Enter you year of service: \"))\n",
        "get_salary=int(input(\"Enter your current salary: \"))\n",
        "\n",
        "if(service_year > 5):\n",
        "  get_bonus= get_salary * 0.05\n",
        "  new_salary= get_bonus + get_salary\n",
        "  print(new_salary)\n",
        "\n",
        "else:\n",
        "  print(\"You're not eligible to get the bonus!!\")\n",
        "\n"
      ],
      "metadata": {
        "colab": {
          "base_uri": "https://localhost:8080/"
        },
        "id": "Fimedpn4uH_v",
        "outputId": "16e57a3d-2452-4aec-b139-3b7aa40938d2"
      },
      "execution_count": 16,
      "outputs": [
        {
          "output_type": "stream",
          "name": "stdout",
          "text": [
            "Enter you year of service: 3\n",
            "Enter your current salary: 200\n",
            "You're not eligible to get the bonus!!\n"
          ]
        }
      ]
    },
    {
      "cell_type": "code",
      "source": [
        "#A company decided to give bonus of 5% to employee if his/her year of service is more than 5 years.\n",
        "#Ask user for their salary and year of service and print the net bonus amount.\n",
        "\n",
        "service_year=int(input(\"Enter you year of service: \"))\n",
        "\n",
        "\n",
        "if(service_year > 5):\n",
        "  get_salary=int(input(\"Enter your current salary: \"))\n",
        "  get_bonus= get_salary * 0.05\n",
        "  new_salary= get_bonus + get_salary\n",
        "  print(new_salary)\n",
        "\n",
        "else:\n",
        "  print(\"You're not eligible to get the bonus!!\")"
      ],
      "metadata": {
        "colab": {
          "base_uri": "https://localhost:8080/"
        },
        "id": "LPuhNq1ZuReW",
        "outputId": "c749b41d-3856-4b82-a975-0b95509cf93d"
      },
      "execution_count": 19,
      "outputs": [
        {
          "output_type": "stream",
          "name": "stdout",
          "text": [
            "Enter you year of service: 3\n",
            "You're not eligible to get the bonus!!\n"
          ]
        }
      ]
    },
    {
      "cell_type": "code",
      "source": [
        "#A company decided to give bonus of 5% to employee if his/her year of service is more than 5 years.\n",
        "#Ask user for their salary and year of service and print the net bonus amount.\n",
        "\n",
        "service_year=int(input(\"Enter you year of service: \"))\n",
        "\n",
        "\n",
        "if(service_year > 5):\n",
        "  get_salary=int(input(\"Enter your current salary: \"))\n",
        "  get_bonus= get_salary * 0.05\n",
        "  new_salary= get_bonus + get_salary\n",
        "  print(new_salary)\n",
        "\n",
        "else:\n",
        "  print(\"You're not eligible to get the bonus!!\")"
      ],
      "metadata": {
        "colab": {
          "base_uri": "https://localhost:8080/"
        },
        "id": "JA60p04Hvqn0",
        "outputId": "62fa3e01-9dbf-415d-d139-892dbbf485dd"
      },
      "execution_count": 20,
      "outputs": [
        {
          "output_type": "stream",
          "name": "stdout",
          "text": [
            "Enter you year of service: 7\n",
            "Enter your current salary: 4000\n",
            "4200.0\n"
          ]
        }
      ]
    },
    {
      "cell_type": "code",
      "source": [
        "#A school has following rules for grading system:\n",
        "#a. Below 25 - F\n",
        "#b. 25 to 45 - E\n",
        "#c. 45 to 50 - D\n",
        "#d. 50 to 60 - C\n",
        "#e. 60 to 80 - B\n",
        "#f. Above 80 - A\n",
        "#ask user to enter marks and print the corresponding grade.\n",
        "\n",
        "\n",
        "get_score=int(input(\" Enter your score: \"))\n",
        "\n",
        "if get_score > 80 :\n",
        "  print(\" A grade\")\n",
        "elif((get_score >= 60) and  (get_score <=80)):\n",
        "  print(\"B Grade \")\n",
        "elif ((get_score >= 50) and (get_score <60)):\n",
        "  print(\"C Grade \")\n",
        "elif ((get_score >= 45) and (get_score <50)):\n",
        "  print(\"D Grade \")\n",
        "elif ((get_score >= 25) and (get_score < 45)):\n",
        "  print(\"E Grade \")\n",
        "else:\n",
        "  print(\"F Grade \")\n",
        "\n"
      ],
      "metadata": {
        "colab": {
          "base_uri": "https://localhost:8080/"
        },
        "id": "b3NQOPqWvsUl",
        "outputId": "1bb4958a-ef62-4660-c06b-31348f542017"
      },
      "execution_count": 29,
      "outputs": [
        {
          "output_type": "stream",
          "name": "stdout",
          "text": [
            " Enter your score: 12\n",
            "F Grade \n"
          ]
        }
      ]
    },
    {
      "cell_type": "code",
      "source": [
        "#A student will not be allowed to sit in exam if his/her attendence is less than 75%.\n",
        "#Take following input from user\n",
        "#Number of classes held\n",
        "#Number of classes attended And print percentage of class attended\n",
        "#Is student is allowed to sit in exam or not.\n",
        "\n",
        "total_classes = 24\n",
        "get_attendance=int(input(\"Enter of attended classes: \"))\n",
        "\n",
        "\n",
        "get_percentage= (get_attendance / total_classes) * 100\n",
        "print(f\"Attendance Percentage: {get_percentage:.2f}%\")\n",
        "if (get_percentage > 75):\n",
        "  print(\"You're allowed for exam! \")\n",
        "else:\n",
        "  print(\"You're not allowed for exam!! \")\n"
      ],
      "metadata": {
        "colab": {
          "base_uri": "https://localhost:8080/"
        },
        "id": "5AgIFor40Ps0",
        "outputId": "eb30169b-1423-4bcb-8e98-01c424816b09"
      },
      "execution_count": 51,
      "outputs": [
        {
          "output_type": "stream",
          "name": "stdout",
          "text": [
            "Enter of attended classes: 5\n",
            "Attendance Percentage: 20.83%\n",
            "You're not allowed for exam!! \n"
          ]
        }
      ]
    }
  ]
}