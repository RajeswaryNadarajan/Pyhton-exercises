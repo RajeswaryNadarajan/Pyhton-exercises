{
  "nbformat": 4,
  "nbformat_minor": 0,
  "metadata": {
    "colab": {
      "provenance": [],
      "authorship_tag": "ABX9TyMD/SJkNdRKK9HIZo8jtIhj",
      "include_colab_link": true
    },
    "kernelspec": {
      "name": "python3",
      "display_name": "Python 3"
    },
    "language_info": {
      "name": "python"
    }
  },
  "cells": [
    {
      "cell_type": "markdown",
      "metadata": {
        "id": "view-in-github",
        "colab_type": "text"
      },
      "source": [
        "<a href=\"https://colab.research.google.com/github/RajeswaryNadarajan/Pyhton-exercises/blob/main/lists_ipynb.ipynb\" target=\"_parent\"><img src=\"https://colab.research.google.com/assets/colab-badge.svg\" alt=\"Open In Colab\"/></a>"
      ]
    },
    {
      "cell_type": "code",
      "execution_count": 5,
      "metadata": {
        "colab": {
          "base_uri": "https://localhost:8080/"
        },
        "id": "atl1pp7M-rdW",
        "outputId": "4f9cc80e-354c-46a4-aeba-c7210a8856b7"
      },
      "outputs": [
        {
          "output_type": "stream",
          "name": "stdout",
          "text": [
            "Total sum in list_1 : 21\n",
            "Total count in list_1 : 6\n"
          ]
        }
      ],
      "source": [
        "#number of count in list\n",
        "#sum of given  list\n",
        "\n",
        "sum=0\n",
        "sum_1 = 0\n",
        "list=[1,2,3,4,5,6]\n",
        "\n",
        "for i in list :\n",
        "  sum=sum+i\n",
        "  sum_1=sum_1+1\n",
        "print(\"Total sum in list_1 :\",sum)\n",
        "print(\"Total count in list_1 :\",sum_1)\n"
      ]
    },
    {
      "cell_type": "code",
      "source": [
        "# append new numbers in list\n",
        "\n",
        "list_2 =[]\n",
        "list_2.append(2)\n",
        "list_2.append(3)\n",
        "list_2.append(4)\n",
        "list_2.append(5)\n",
        "list_2.append(6)\n",
        "print(\"List_2 :\",list_2)\n",
        "print(\"Total countof list_2 : \",len(list_2))"
      ],
      "metadata": {
        "colab": {
          "base_uri": "https://localhost:8080/"
        },
        "id": "V11JxcYb-8Lv",
        "outputId": "a82e1bb7-47fa-4ee2-f105-7c6875c18c42"
      },
      "execution_count": 7,
      "outputs": [
        {
          "output_type": "stream",
          "name": "stdout",
          "text": [
            "List_2 : [2, 3, 4, 5, 6]\n",
            "Total countof list_2 :  5\n"
          ]
        }
      ]
    },
    {
      "cell_type": "code",
      "source": [
        "# index value & update new value at list\n",
        "\n",
        "list_3= [\"chemistry\",2001,\"Ramu\", 1989]\n",
        "print(list_3[2])\n",
        "list_3[2]=\"Geetha\"\n",
        "print(list_3)\n",
        "\n",
        "list_3.append(2024)\n",
        "print(list_3)\n",
        "list_3.insert(2,100)\n",
        "print(list_3)\n",
        "list_3.remove(2001)\n",
        "\n",
        "print(list_3)"
      ],
      "metadata": {
        "colab": {
          "base_uri": "https://localhost:8080/"
        },
        "id": "u_J-PBsKC00t",
        "outputId": "5fa83489-a216-4898-b567-c7efb89de620"
      },
      "execution_count": 22,
      "outputs": [
        {
          "output_type": "stream",
          "name": "stdout",
          "text": [
            "Ramu\n",
            "['chemistry', 2001, 'Geetha', 1989]\n",
            "['chemistry', 2001, 'Geetha', 1989, 2024]\n",
            "['chemistry', 2001, 100, 'Geetha', 1989, 2024]\n",
            "['chemistry', 100, 'Geetha', 1989, 2024]\n"
          ]
        }
      ]
    },
    {
      "cell_type": "code",
      "source": [],
      "metadata": {
        "id": "Ik0D-gW2JTvM"
      },
      "execution_count": null,
      "outputs": []
    },
    {
      "cell_type": "code",
      "source": [
        "#list all the negative elements in the list\n",
        "list_a= [56,-98,12,-30,76,51,23,34]\n",
        "\n",
        "for i in  list_a:\n",
        "  if i < 0:\n",
        "    print(\"The negative numbers in list_a :\",i)\n",
        "\n"
      ],
      "metadata": {
        "colab": {
          "base_uri": "https://localhost:8080/"
        },
        "id": "nPEcnJROItdQ",
        "outputId": "96306f1d-e180-4795-eef0-568f489b1b61"
      },
      "execution_count": 23,
      "outputs": [
        {
          "output_type": "stream",
          "name": "stdout",
          "text": [
            "The negative numbers in list_a : -98\n",
            "The negative numbers in list_a : -30\n"
          ]
        }
      ]
    },
    {
      "cell_type": "code",
      "source": [
        "# Write a Python Code to find sum of all List elements.\n",
        "\n",
        "\n",
        "list_a= [56,-98,12,-30,76,51,23,34]\n",
        "sum=0\n",
        "for i in list_a:\n",
        "  sum=sum+i\n",
        "print(\"Sum of all list_3 elements is :\", sum)"
      ],
      "metadata": {
        "colab": {
          "base_uri": "https://localhost:8080/"
        },
        "id": "ELp3ImePJ3m4",
        "outputId": "33a97912-27ff-4a8c-9889-097d9446a910"
      },
      "execution_count": 28,
      "outputs": [
        {
          "output_type": "stream",
          "name": "stdout",
          "text": [
            "Sum of all list_3 elements is : 124\n"
          ]
        }
      ]
    },
    {
      "cell_type": "code",
      "source": [
        "#Write a Python Code to find maximum and minimum element in an List.\n",
        "\n",
        "print(\" The biggest element list list_a is :\",max(list_a))\n",
        "print(\" The smallest element list list_a is :\",min(list_a))\n"
      ],
      "metadata": {
        "colab": {
          "base_uri": "https://localhost:8080/"
        },
        "id": "OmO0eNCvKjn4",
        "outputId": "1fab7764-92a0-4ce2-f07b-d8ae29c13070"
      },
      "execution_count": 31,
      "outputs": [
        {
          "output_type": "stream",
          "name": "stdout",
          "text": [
            " The biggest element list list_a is : 76\n",
            " The smallest element list list_a is : -98\n"
          ]
        }
      ]
    },
    {
      "cell_type": "code",
      "source": [
        "#Write a Python Code to find second largest element in an List.\n",
        "print(\"Total elements of length a:\", len(list_a))\n",
        "list_a.sort()\n",
        "print(\"List_a in ascending order:\",list_a)\n",
        "print(\"The second largest element is list_a :\", list_a[6])\n"
      ],
      "metadata": {
        "colab": {
          "base_uri": "https://localhost:8080/"
        },
        "id": "V_qjrZrILCuf",
        "outputId": "cf5f2ea2-2ced-4c66-be12-934dbb6d570a"
      },
      "execution_count": 43,
      "outputs": [
        {
          "output_type": "stream",
          "name": "stdout",
          "text": [
            "Total elements of length a: 8\n",
            "List_a in ascending order: [-98, -30, 12, 23, 34, 51, 56, 76]\n",
            "The second largest element is list_a : 56\n"
          ]
        }
      ]
    },
    {
      "cell_type": "code",
      "source": [
        " #Write a Python Code to count total number of even and odd elements inan List.\n",
        "\n",
        "count_even =0\n",
        "count_odd = 0\n",
        "list_a= [56,-98,12,-30,76,51,23,34]\n",
        "\n",
        "for i in list_a:\n",
        "  if i % 2==0:\n",
        "    count_even=count_even + 1\n",
        "  else:\n",
        "     count_odd=count_odd + 1\n",
        "\n",
        "print(\"List_2: \",list_2)\n",
        "print(\"The total count of even numbers in list :\",count_even)\n",
        "print(\"The total count of odd numbers in list :\",count_odd)"
      ],
      "metadata": {
        "colab": {
          "base_uri": "https://localhost:8080/"
        },
        "id": "RYpHvqVhMkQ1",
        "outputId": "fadf4a02-3f97-4299-fca3-1e4ea9702423"
      },
      "execution_count": 52,
      "outputs": [
        {
          "output_type": "stream",
          "name": "stdout",
          "text": [
            "List_2:  [2, 3, 4, 5, 6]\n",
            "The total count of even numbers in list : 6\n",
            "The total count of odd numbers in list : 2\n"
          ]
        }
      ]
    },
    {
      "cell_type": "code",
      "source": [
        " #Write a Python Code to count total number of negative elements in an List.\n",
        "\n",
        "count_negative = 0\n",
        "list_2=[56,-98,12,-30,76,51,23,34]\n",
        "\n",
        "for i  in list_2:\n",
        "  if i<0:\n",
        "    count_negative = count_negative + 1\n",
        "print(\" The total negative elements in list_a:\",count_negative)"
      ],
      "metadata": {
        "colab": {
          "base_uri": "https://localhost:8080/"
        },
        "id": "zwfTbCq8OwdS",
        "outputId": "81d5e5d0-fac4-425c-bdd8-2da8af8b6c33"
      },
      "execution_count": 55,
      "outputs": [
        {
          "output_type": "stream",
          "name": "stdout",
          "text": [
            " The total negative elements in list_a: 2\n"
          ]
        }
      ]
    },
    {
      "cell_type": "code",
      "source": [
        " #Write a Python Code to copy all elements from an List to another List\n",
        "\n",
        "list_b=list_a.copy()\n",
        "print(\"List_b:\", list_b)"
      ],
      "metadata": {
        "colab": {
          "base_uri": "https://localhost:8080/"
        },
        "id": "b1kOVWfnQTzu",
        "outputId": "24dc5138-5795-4ab3-d46e-8a4c7fe2b236"
      },
      "execution_count": 62,
      "outputs": [
        {
          "output_type": "stream",
          "name": "stdout",
          "text": [
            "List_b: [56, -98, 12, -30, 76, 51, 23, 34]\n"
          ]
        }
      ]
    },
    {
      "cell_type": "code",
      "source": [
        "#Write a Python program to remove duplicates from a list.\n",
        "list_c=[2,3,3,3,4,55,55,67,88,88]\n",
        "x=(set(list_c))\n",
        "print(x)"
      ],
      "metadata": {
        "colab": {
          "base_uri": "https://localhost:8080/"
        },
        "id": "z9McZJMWRmbP",
        "outputId": "72e062c0-fc94-4633-b7f6-1b53276a37f3"
      },
      "execution_count": 66,
      "outputs": [
        {
          "output_type": "stream",
          "name": "stdout",
          "text": [
            "{2, 67, 3, 4, 55, 88}\n"
          ]
        }
      ]
    },
    {
      "cell_type": "code",
      "source": [
        "#Write a Python program to remove duplicates from a list.\n",
        "\n",
        "list_f=[]\n",
        "list_g=[10,10,10,20,40,50,80,80]\n",
        "\n",
        "for i in list_g:\n",
        "  if i not in list_f:\n",
        "    list_f.append(i)\n",
        "print(list_f)\n"
      ],
      "metadata": {
        "colab": {
          "base_uri": "https://localhost:8080/"
        },
        "id": "0FTbwbj4F8jb",
        "outputId": "069845e2-9256-4b4b-e650-fd061f0e7ba8"
      },
      "execution_count": 1,
      "outputs": [
        {
          "output_type": "stream",
          "name": "stdout",
          "text": [
            "[10, 20, 40, 50, 80]\n"
          ]
        }
      ]
    },
    {
      "cell_type": "code",
      "source": [
        "#Write a Python program to find the list of words that are longer than n from a given list of words\n",
        "\n",
        "def long_words(n,str):\n",
        "  word=[]\n",
        "  text=str.split(\" \")\n",
        "  for i in text:\n",
        "    if len(i)>n:\n",
        "      word.append(i)\n",
        "  return word\n",
        "\n",
        "\n",
        "print(long_words(2,input(\"Enter your sentence: \")))"
      ],
      "metadata": {
        "colab": {
          "base_uri": "https://localhost:8080/"
        },
        "id": "lvoGgnA_Fgvm",
        "outputId": "a837ab1e-899e-4e2c-f20e-631343c7b1e3"
      },
      "execution_count": 23,
      "outputs": [
        {
          "output_type": "stream",
          "name": "stdout",
          "text": [
            "Enter your sentence: hi Rajes here a data ENginner\n",
            "['Rajes', 'here', 'data', 'ENginner']\n"
          ]
        }
      ]
    },
    {
      "cell_type": "code",
      "source": [
        "#Write a Python program to find the list of words that are longer than n from a given list of words\n",
        "\n",
        "def long_word(n,str):\n",
        "  text=[]\n",
        "  words=str.split(\" \")\n",
        "  for i in words:\n",
        "    if len(i)>n:\n",
        "      text.append(words)\n",
        "  return  words\n",
        "\n",
        "print(long_words(3,input(\" Enter your sentence: \")))"
      ],
      "metadata": {
        "colab": {
          "base_uri": "https://localhost:8080/"
        },
        "id": "8dmKl2F4Mq8D",
        "outputId": "9fe4b335-f477-420b-e4e3-99dab34cc97d"
      },
      "execution_count": 27,
      "outputs": [
        {
          "output_type": "stream",
          "name": "stdout",
          "text": [
            " Enter your sentence: Hi Kutty here he is my world\n",
            "['Kutty', 'here', 'world']\n"
          ]
        }
      ]
    },
    {
      "cell_type": "code",
      "source": [
        "# Write a Python program to get the frequency of the elements in a list.\n",
        "\n",
        "import collections\n",
        "\n",
        "my_list=\"My name is Rajes\"\n",
        "ctr = collections.Counter(my_list)\n",
        "print(ctr)"
      ],
      "metadata": {
        "colab": {
          "base_uri": "https://localhost:8080/"
        },
        "id": "zY-FXASlUpWN",
        "outputId": "f16af5fa-e5db-43e3-bd5b-63e67210f3f1"
      },
      "execution_count": 35,
      "outputs": [
        {
          "output_type": "stream",
          "name": "stdout",
          "text": [
            "Counter({' ': 3, 'a': 2, 'e': 2, 's': 2, 'M': 1, 'y': 1, 'n': 1, 'm': 1, 'i': 1, 'R': 1, 'j': 1})\n"
          ]
        }
      ]
    },
    {
      "cell_type": "code",
      "source": [
        "import collections\n",
        "\n",
        "my_list=[20,20,10,35,87]\n",
        "ctr = collections.Counter(my_list)\n",
        "print(ctr)"
      ],
      "metadata": {
        "colab": {
          "base_uri": "https://localhost:8080/"
        },
        "id": "MXLzT3QjWqMU",
        "outputId": "1a893e42-1442-471f-a989-e2c7ed8a0d11"
      },
      "execution_count": 36,
      "outputs": [
        {
          "output_type": "stream",
          "name": "stdout",
          "text": [
            "Counter({20: 2, 10: 1, 35: 1, 87: 1})\n"
          ]
        }
      ]
    },
    {
      "cell_type": "code",
      "source": [
        "#Write a Python program to find common items from two lists\n",
        "\n",
        "list_s=[2,3,4,5,6]\n",
        "list_r=[2,3,4,5,8,9]\n",
        "print(\"The common element in both list are:\",set(list_s) & set(list_r) )"
      ],
      "metadata": {
        "colab": {
          "base_uri": "https://localhost:8080/"
        },
        "id": "qOTIYJHhXqi_",
        "outputId": "18bbcede-e931-430e-9e3c-6e2d3c0698d1"
      },
      "execution_count": 41,
      "outputs": [
        {
          "output_type": "stream",
          "name": "stdout",
          "text": [
            "The common element in both list are: {2, 3, 4, 5}\n"
          ]
        }
      ]
    }
  ]
}