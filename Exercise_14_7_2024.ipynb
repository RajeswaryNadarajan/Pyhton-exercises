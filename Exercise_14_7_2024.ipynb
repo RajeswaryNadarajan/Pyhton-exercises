{
  "nbformat": 4,
  "nbformat_minor": 0,
  "metadata": {
    "colab": {
      "provenance": [],
      "authorship_tag": "ABX9TyNiDJsxeoUrPKSivPX3k+Gt",
      "include_colab_link": true
    },
    "kernelspec": {
      "name": "python3",
      "display_name": "Python 3"
    },
    "language_info": {
      "name": "python"
    }
  },
  "cells": [
    {
      "cell_type": "markdown",
      "metadata": {
        "id": "view-in-github",
        "colab_type": "text"
      },
      "source": [
        "<a href=\"https://colab.research.google.com/github/RajeswaryNadarajan/Pyhton-exercises/blob/main/Exercise_14_7_2024.ipynb\" target=\"_parent\"><img src=\"https://colab.research.google.com/assets/colab-badge.svg\" alt=\"Open In Colab\"/></a>"
      ]
    },
    {
      "cell_type": "code",
      "execution_count": 4,
      "metadata": {
        "colab": {
          "base_uri": "https://localhost:8080/"
        },
        "id": "zR5_XIAFU3_P",
        "outputId": "122c6a02-58c2-467b-dbbf-1d5cdad94388"
      },
      "outputs": [
        {
          "output_type": "stream",
          "name": "stdout",
          "text": [
            "The maximum number from list_1 :  8\n"
          ]
        }
      ],
      "source": [
        "#**Question**: Given a list of integers, find the maximum value.\n",
        "\n",
        "#**Example**:\n",
        "# **Input**: `[4, 2, 8, 6]`\n",
        "#**Output**: `8`\n",
        "\n",
        "\n",
        "list_1=[4, 2, 8, 6]\n",
        "\n",
        "res=max(list_1)\n",
        "print(\"The maximum number from list_1 : \",res)"
      ]
    },
    {
      "cell_type": "code",
      "source": [
        "### 2. Sum All Elements in a List\n",
        "##**Question**: Given a list of integers, calculate the sum of all the elements.\n",
        "\n",
        "#**Example**:\n",
        "# **Input**: `[1, 2, 3, 4]`\n",
        "# **Output**: `10`\n",
        "\n",
        "sum=0\n",
        "list_2= [1, 2, 3, 4]\n",
        "\n",
        "for i in list_2:\n",
        "  sum=sum + i\n",
        "print(\"calculate the sum of list_2 :\",sum)"
      ],
      "metadata": {
        "colab": {
          "base_uri": "https://localhost:8080/"
        },
        "id": "lULZKd05Vk9A",
        "outputId": "8d2822bc-4ca0-4fbe-dfc5-07acfcfe55b6"
      },
      "execution_count": 7,
      "outputs": [
        {
          "output_type": "stream",
          "name": "stdout",
          "text": [
            "calculate the sum of list_2 : 10\n"
          ]
        }
      ]
    },
    {
      "cell_type": "code",
      "source": [
        "### 3. Reverse a List\n",
        "#**Question**: Given a list, produce a new list with the elements in reverse order.\n",
        "\n",
        "#**Example**:\n",
        "#- **Input**: `[1, 2, 3, 4]`\n",
        "#- **Output**: `[4, 3, 2, 1]`\n",
        "\n",
        "list_3 = [1, 2, 3, 4]\n",
        "\n",
        "res= list_3[::-1]\n",
        "print(\" List_3 in reverse order:\",res)"
      ],
      "metadata": {
        "colab": {
          "base_uri": "https://localhost:8080/"
        },
        "id": "7WCDNBD_WPvu",
        "outputId": "c399e3c9-4b4b-430e-9da1-077d7b0ed9c2"
      },
      "execution_count": 9,
      "outputs": [
        {
          "output_type": "stream",
          "name": "stdout",
          "text": [
            " List_3 in reverse order: [4, 3, 2, 1]\n"
          ]
        }
      ]
    },
    {
      "cell_type": "code",
      "source": [
        "### 4. Check for an Element in a List\n",
        "#**Question**: Given a list and an element, determine if the element is in the list.\n",
        "\n",
        "##**Example 1**:\n",
        "#- **Input**: `List: [1, 2, 3, 4]`, `Element: 3`\n",
        "#- **Output**: `True`\n",
        "\n",
        "List= [1, 2, 3, 4]\n",
        "element = 3\n",
        "\n",
        "if element in List:\n",
        "  print('True')\n",
        "else:\n",
        "  print('false')"
      ],
      "metadata": {
        "colab": {
          "base_uri": "https://localhost:8080/"
        },
        "id": "IxYM2M4lXRxE",
        "outputId": "04ca5c4a-a39d-4f6c-de16-43d51fa16508"
      },
      "execution_count": 10,
      "outputs": [
        {
          "output_type": "stream",
          "name": "stdout",
          "text": [
            "True\n"
          ]
        }
      ]
    },
    {
      "cell_type": "code",
      "source": [
        "### 4. Check for an Element in a List\n",
        "#**Question**: Given a list and an element, determine if the element is in the list.\n",
        "\n",
        "##**Example 1**:\n",
        "#- **Input**: `List: [1, 2, 3, 4]`, `Element: 3`\n",
        "#- **Output**: `True`\n",
        "\n",
        "List= [1, 2, 3, 4]\n",
        "element = 5\n",
        "\n",
        "if element in List:\n",
        "  print('True')\n",
        "else:\n",
        "  print('False')"
      ],
      "metadata": {
        "colab": {
          "base_uri": "https://localhost:8080/"
        },
        "id": "LjLoceuQYCc5",
        "outputId": "45aa7e40-e75b-4da0-cf4a-dcc68e64dc75"
      },
      "execution_count": 12,
      "outputs": [
        {
          "output_type": "stream",
          "name": "stdout",
          "text": [
            "False\n"
          ]
        }
      ]
    },
    {
      "cell_type": "code",
      "source": [
        "### 5. Remove Duplicates from a List\n",
        "#**Question**: Given a list, create a new list with duplicates removed.\n",
        "\n",
        "#**Example**:\n",
        "#- **Input**: `[1, 2, 2, 3, 4, 4, 4, 5]`\n",
        "#- **Output**: `[1, 2, 3, 4, 5]`\n",
        "\n",
        "input=[1, 2, 2, 3, 4, 4, 4, 5]\n",
        "res=set(input)\n",
        "res_1=list(res)\n",
        "print(res_1)"
      ],
      "metadata": {
        "colab": {
          "base_uri": "https://localhost:8080/"
        },
        "id": "rbU2VO3nYNGA",
        "outputId": "826b216c-6b7e-4faf-e94a-b69793f0d04e"
      },
      "execution_count": 14,
      "outputs": [
        {
          "output_type": "stream",
          "name": "stdout",
          "text": [
            "[1, 2, 3, 4, 5]\n"
          ]
        }
      ]
    },
    {
      "cell_type": "code",
      "source": [
        "### 6. Find the Length of a List\n",
        "#**Question**: Given a list, find the number of elements in the list.\n",
        "\n",
        "#**Example**:\n",
        "#- **Input**: `[1, 2, 3, 4, 5]`\n",
        "#**Output**: `5`\n",
        "\n",
        "input_1=[1, 2, 3, 4, 5]\n",
        "\n",
        "res=len(input_1)\n",
        "print(res)"
      ],
      "metadata": {
        "colab": {
          "base_uri": "https://localhost:8080/"
        },
        "id": "KqS9CUagYwia",
        "outputId": "6d1a3162-8d19-44e7-8863-f7f7aede9449"
      },
      "execution_count": 17,
      "outputs": [
        {
          "output_type": "stream",
          "name": "stdout",
          "text": [
            "5\n"
          ]
        }
      ]
    },
    {
      "cell_type": "code",
      "source": [
        "### 7. Find the Index of an Element\n",
        "##**Question**: Given a list and an element, find the index of the element in the list. If the element is not found, return -1.\n",
        "\n",
        "##**Example 1**:\n",
        "#- **Input**: `List: [10, 20, 30, 40, 50]`, `Element: 30`\n",
        "#- **Output**: `2`\n",
        "\n",
        "#**Example 2**:\n",
        "#- **Input**: `List: [10, 20, 30, 40, 50]`, `Element: 60`\n",
        "\n",
        "\n",
        "list_a= [10, 20, 30, 40, 50]\n",
        "element_1=30\n",
        "\n",
        "\n",
        "index=list_a.index(element_1 ) if element_1 in list_a  else -1\n",
        "\n",
        "print(index)\n",
        "\n"
      ],
      "metadata": {
        "colab": {
          "base_uri": "https://localhost:8080/"
        },
        "id": "ferWea99ZQm3",
        "outputId": "7b9c5c6f-b512-4cbd-aaa0-1f8a0b7215f1"
      },
      "execution_count": 20,
      "outputs": [
        {
          "output_type": "stream",
          "name": "stdout",
          "text": [
            "2\n"
          ]
        }
      ]
    },
    {
      "cell_type": "code",
      "source": [
        "### 7. Find the Index of an Element\n",
        "##**Question**: Given a list and an element, find the index of the element in the list. If the element is not found, return -1.\n",
        "\n",
        "##**Example 1**:\n",
        "#- **Input**: `List: [10, 20, 30, 40, 50]`, `Element: 30`\n",
        "#- **Output**: `2`\n",
        "\n",
        "#**Example 2**:\n",
        "#- **Input**: `List: [10, 20, 30, 40, 50]`, `Element: 60`\n",
        "\n",
        "\n",
        "list_a= [10, 20, 30, 40, 50]\n",
        "element_2= 60\n",
        "\n",
        "\n",
        "index=list_a.index(element_2 ) if element_2 in list_a  else -1\n",
        "\n",
        "print(index)"
      ],
      "metadata": {
        "colab": {
          "base_uri": "https://localhost:8080/"
        },
        "id": "5D3WTn73btj9",
        "outputId": "d709f6b2-11e6-462b-c380-b382ad4a3615"
      },
      "execution_count": 21,
      "outputs": [
        {
          "output_type": "stream",
          "name": "stdout",
          "text": [
            "-1\n"
          ]
        }
      ]
    },
    {
      "cell_type": "code",
      "source": [
        "### 8. Merge Two Lists\n",
        "#**Question**: Given two lists, combine them into a single list with all the elements of the first list followed by all the elements of the second list.\n",
        "\n",
        "##**Example**:\n",
        "#- **Input**: `List 1: [1, 2, 3]`, `List 2: [4, 5, 6]`\n",
        "#- **Output**: `[1, 2, 3, 4, 5, 6]`\n",
        "\n",
        "List_1= [1, 2, 3]\n",
        "List_2= [4, 5, 6]\n",
        "\n",
        "list_b=List_1 + List_2\n",
        "print(list_b)"
      ],
      "metadata": {
        "colab": {
          "base_uri": "https://localhost:8080/"
        },
        "id": "faNRtYAecCI2",
        "outputId": "f8982077-f255-4584-85f8-29518148502a"
      },
      "execution_count": 23,
      "outputs": [
        {
          "output_type": "stream",
          "name": "stdout",
          "text": [
            "[1, 2, 3, 4, 5, 6]\n"
          ]
        }
      ]
    },
    {
      "cell_type": "code",
      "source": [
        "### 9. Find Even Numbers in a List\n",
        "#**Question**: Given a list of integers, create a new list containing only the even numbers.\n",
        "\n",
        "#**Example**:\n",
        "##- **Input**: `[1, 2, 3, 4, 5, 6]`\n",
        "#- **Output**: `[2, 4, 6]`\n",
        "\n",
        "list=[]\n",
        "input1=[1, 2, 3, 4, 5, 6]\n",
        "\n",
        "for i in input1:\n",
        "  if i %2==0:\n",
        "    list.append(i)\n",
        "print(list)"
      ],
      "metadata": {
        "colab": {
          "base_uri": "https://localhost:8080/"
        },
        "id": "qneePE5Dcnn3",
        "outputId": "74d75700-c3c6-4f3c-a148-df6da3bcc557"
      },
      "execution_count": 30,
      "outputs": [
        {
          "output_type": "stream",
          "name": "stdout",
          "text": [
            "[2, 4, 6]\n"
          ]
        }
      ]
    },
    {
      "cell_type": "code",
      "source": [
        "### 10. Count Occurrences of an Element\n",
        "##**Question**: Given a list and an element, count how many times the element appears in the list.\n",
        "\n",
        "#**Example**:\n",
        "#- **Input**: `List: [1, 2, 2, 3, 3, 3, 4]`, `Element: 3`\n",
        "#- **Output**: `3`\n",
        "\n",
        "count=0\n",
        "List2= [1, 2, 2, 3, 3, 3, 4]\n",
        "element= 3\n",
        "\n",
        "res=List2.count(element)\n",
        "print(res)\n",
        "\n",
        "\n",
        "\n"
      ],
      "metadata": {
        "colab": {
          "base_uri": "https://localhost:8080/"
        },
        "id": "tdJ8a0vUdF_T",
        "outputId": "8f3442ab-1d06-4c05-f884-4ad763a14be3"
      },
      "execution_count": 39,
      "outputs": [
        {
          "output_type": "stream",
          "name": "stdout",
          "text": [
            "3\n"
          ]
        }
      ]
    }
  ]
}