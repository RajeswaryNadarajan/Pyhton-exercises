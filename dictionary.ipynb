{
  "nbformat": 4,
  "nbformat_minor": 0,
  "metadata": {
    "colab": {
      "provenance": [],
      "authorship_tag": "ABX9TyPYrx+GcwKKD9hejHFNomLA",
      "include_colab_link": true
    },
    "kernelspec": {
      "name": "python3",
      "display_name": "Python 3"
    },
    "language_info": {
      "name": "python"
    }
  },
  "cells": [
    {
      "cell_type": "markdown",
      "metadata": {
        "id": "view-in-github",
        "colab_type": "text"
      },
      "source": [
        "<a href=\"https://colab.research.google.com/github/RajeswaryNadarajan/Pyhton-exercises/blob/main/dictionary.ipynb\" target=\"_parent\"><img src=\"https://colab.research.google.com/assets/colab-badge.svg\" alt=\"Open In Colab\"/></a>"
      ]
    },
    {
      "cell_type": "code",
      "execution_count": 45,
      "metadata": {
        "colab": {
          "base_uri": "https://localhost:8080/"
        },
        "id": "7-dOM2CDkB7K",
        "outputId": "115629e7-cac8-44a7-f9ab-5b0fbdee7a9f"
      },
      "outputs": [
        {
          "output_type": "stream",
          "name": "stdout",
          "text": [
            " Enter the key: 1\n",
            "Enter the str value:bobo\n",
            "{1: 'bobo'}\n",
            " Enter the key: 2\n",
            "Enter the str value:kutty\n",
            "{1: 'bobo', 2: 'kutty'}\n"
          ]
        }
      ],
      "source": [
        "#take user input and fill the key as Interger and values as String and then create the dictionary ?\n",
        "\n",
        "dict_1={}\n",
        "for i in range (2):\n",
        "  key=int(input(\" Enter the key: \"))\n",
        "  value=input(\"Enter the str value:\")\n",
        "\n",
        "  dict_1[key]=value\n",
        "  print(dict_1)\n"
      ]
    },
    {
      "cell_type": "code",
      "source": [
        "#How do you remove a key-value pair from the dictionary?\n",
        "test_dict = {\"Arushi\": 22, \"Mani\": 21, \"Haritha\": 21}\n",
        "del test_dict['Mani']\n",
        "print(test_dict)\n",
        "\n"
      ],
      "metadata": {
        "colab": {
          "base_uri": "https://localhost:8080/",
          "height": 193
        },
        "id": "IfRwJHmn42GU",
        "outputId": "c71dbff3-4d64-4460-ce6b-36d62dd3ea9c"
      },
      "execution_count": 77,
      "outputs": [
        {
          "output_type": "error",
          "ename": "TypeError",
          "evalue": "'dict' object is not callable",
          "traceback": [
            "\u001b[0;31m---------------------------------------------------------------------------\u001b[0m",
            "\u001b[0;31mTypeError\u001b[0m                                 Traceback (most recent call last)",
            "\u001b[0;32m<ipython-input-77-ff3aadbdb922>\u001b[0m in \u001b[0;36m<cell line: 4>\u001b[0;34m()\u001b[0m\n\u001b[1;32m      2\u001b[0m \u001b[0mtest_dict\u001b[0m \u001b[0;34m=\u001b[0m \u001b[0;34m{\u001b[0m\u001b[0;34m\"Arushi\"\u001b[0m\u001b[0;34m:\u001b[0m \u001b[0;36m22\u001b[0m\u001b[0;34m,\u001b[0m \u001b[0;34m\"Mani\"\u001b[0m\u001b[0;34m:\u001b[0m \u001b[0;36m21\u001b[0m\u001b[0;34m,\u001b[0m \u001b[0;34m\"Haritha\"\u001b[0m\u001b[0;34m:\u001b[0m \u001b[0;36m21\u001b[0m\u001b[0;34m}\u001b[0m\u001b[0;34m\u001b[0m\u001b[0;34m\u001b[0m\u001b[0m\n\u001b[1;32m      3\u001b[0m \u001b[0;32mdel\u001b[0m \u001b[0mtest_dict\u001b[0m\u001b[0;34m[\u001b[0m\u001b[0;34m'Mani'\u001b[0m\u001b[0;34m]\u001b[0m\u001b[0;34m\u001b[0m\u001b[0;34m\u001b[0m\u001b[0m\n\u001b[0;32m----> 4\u001b[0;31m \u001b[0mprint\u001b[0m\u001b[0;34m(\u001b[0m\u001b[0mtest_dict\u001b[0m\u001b[0;34m)\u001b[0m\u001b[0;34m\u001b[0m\u001b[0;34m\u001b[0m\u001b[0m\n\u001b[0m\u001b[1;32m      5\u001b[0m \u001b[0;34m\u001b[0m\u001b[0m\n",
            "\u001b[0;31mTypeError\u001b[0m: 'dict' object is not callable"
          ]
        }
      ]
    },
    {
      "cell_type": "code",
      "source": [
        "thisdict = {\n",
        "  \"brand\": \"Ford\",\n",
        "  \"model\": \"Mustang\",\n",
        "  \"year\": 1964\n",
        "}\n",
        "thisdict[\"year\"] = 2018\n",
        "print(thisdict)"
      ],
      "metadata": {
        "colab": {
          "base_uri": "https://localhost:8080/",
          "height": 176
        },
        "id": "tFhVxqqv60g7",
        "outputId": "b7249093-6193-4d64-aceb-5e01a9e5534b"
      },
      "execution_count": 79,
      "outputs": [
        {
          "output_type": "error",
          "ename": "TypeError",
          "evalue": "'dict' object is not callable",
          "traceback": [
            "\u001b[0;31m---------------------------------------------------------------------------\u001b[0m",
            "\u001b[0;31mTypeError\u001b[0m                                 Traceback (most recent call last)",
            "\u001b[0;32m<ipython-input-79-ef57d2b08a46>\u001b[0m in \u001b[0;36m<cell line: 7>\u001b[0;34m()\u001b[0m\n\u001b[1;32m      5\u001b[0m }\n\u001b[1;32m      6\u001b[0m \u001b[0mthisdict\u001b[0m\u001b[0;34m[\u001b[0m\u001b[0;34m\"year\"\u001b[0m\u001b[0;34m]\u001b[0m \u001b[0;34m=\u001b[0m \u001b[0;36m2018\u001b[0m\u001b[0;34m\u001b[0m\u001b[0;34m\u001b[0m\u001b[0m\n\u001b[0;32m----> 7\u001b[0;31m \u001b[0mprint\u001b[0m\u001b[0;34m(\u001b[0m\u001b[0mthisdict\u001b[0m\u001b[0;34m)\u001b[0m\u001b[0;34m\u001b[0m\u001b[0;34m\u001b[0m\u001b[0m\n\u001b[0m",
            "\u001b[0;31mTypeError\u001b[0m: 'dict' object is not callable"
          ]
        }
      ]
    },
    {
      "cell_type": "code",
      "source": [
        "#How to reverse a dictionary ?\n",
        "\n",
        "dict_2={1:\"zara\",2:\"Kumar\",3:\"Bibojaan\",4:\"Ratha\"}\n",
        "dict_3={}\n",
        "for key,value in dict_2.items():\n",
        "   dict_3[value]=key\n",
        "print(dict_3)\n"
      ],
      "metadata": {
        "colab": {
          "base_uri": "https://localhost:8080/"
        },
        "id": "1ay1gKdQlUcj",
        "outputId": "09302d56-fc62-4b76-be46-7174246c3ffb"
      },
      "execution_count": 65,
      "outputs": [
        {
          "output_type": "stream",
          "name": "stdout",
          "text": [
            "{'zara': 1, 'Kumar': 2, 'Bibojaan': 3, 'Ratha': 4}\n"
          ]
        }
      ]
    },
    {
      "cell_type": "code",
      "source": [
        "#How to delete a key from a dictionary ?\n",
        "\n",
        "get_key=1\n",
        "del dict_2[get_key]\n",
        "print(dict_2)"
      ],
      "metadata": {
        "colab": {
          "base_uri": "https://localhost:8080/"
        },
        "id": "763bYdMEnYtw",
        "outputId": "1457f8be-d816-4f24-b170-3c3b7863a412"
      },
      "execution_count": 26,
      "outputs": [
        {
          "output_type": "stream",
          "name": "stdout",
          "text": [
            "{2: 'Kumar', 3: 'Bibojaan', 4: 'Ratha'}\n"
          ]
        }
      ]
    },
    {
      "cell_type": "code",
      "source": [
        "#How do you add given key-value pair to dictionary if and only if it is not present in the dictionary?\n",
        "\n",
        "dict3={1:\"Ali\",2:\"Zara\",3:\"Heera\",4:\"Biboo\"}\n",
        "\n",
        "get_new_key=int(input(\"Enter the key: \"))\n",
        "is_present=dict3.__contains__(get_new_key)\n",
        "if(is_present==True):\n",
        "  print(\" Key already exist , enter new key!! \")\n",
        "else:\n",
        "  get_new_value=input(\"Enter Value: \")\n",
        "  dict3[get_new_key]=get_new_value\n",
        "  print(dict3)"
      ],
      "metadata": {
        "colab": {
          "base_uri": "https://localhost:8080/"
        },
        "id": "G0gpU1jdp3Ht",
        "outputId": "16e527fc-789a-4057-b87d-0b0bd678b1f8"
      },
      "execution_count": 40,
      "outputs": [
        {
          "output_type": "stream",
          "name": "stdout",
          "text": [
            "Enter the key: 5\n",
            "Enter Value: Kutty\n",
            "{1: 'Ali', 2: 'Zara', 3: 'Heera', 4: 'Biboo', 5: 'Kutty'}\n"
          ]
        }
      ]
    },
    {
      "cell_type": "code",
      "source": [
        "#how do you retrieve a value associated with a given key from the dictionary?\n",
        "\n",
        "get_key=int(input(\" Enter key: \"))\n",
        "get_value=dict3.get(get_key)\n",
        "print(\"The value for entered key:\",get_value)\n"
      ],
      "metadata": {
        "colab": {
          "base_uri": "https://localhost:8080/"
        },
        "id": "boDPQOyUrFW0",
        "outputId": "74643e40-d1b0-4929-81b4-d963e2e3fcca"
      },
      "execution_count": 54,
      "outputs": [
        {
          "output_type": "stream",
          "name": "stdout",
          "text": [
            " Enter key: 3\n",
            "The value for entered key: Heera\n"
          ]
        }
      ]
    },
    {
      "cell_type": "code",
      "source": [
        "#How do you find out the number of key-value dictionary pair present in a\n",
        "#dictionary?\n",
        "\n",
        "get_len=len(dict3)\n",
        "print(get_len)"
      ],
      "metadata": {
        "colab": {
          "base_uri": "https://localhost:8080/"
        },
        "id": "_bTY8WWG2llP",
        "outputId": "59cfc5d8-8d23-4864-8e40-ec82099c385e"
      },
      "execution_count": 56,
      "outputs": [
        {
          "output_type": "stream",
          "name": "stdout",
          "text": [
            "5\n"
          ]
        }
      ]
    },
    {
      "cell_type": "code",
      "source": [
        "#How do you remove all key-value pairs from a dictionary? OR How do you\n",
        "#clear the dictionary for reuse?\n",
        "\n",
        "dict4={1:\"hi\",2:\"hello\"}\n",
        "del dict4\n",
        "\n",
        "dict5={1:\"hi\",2:\"hello\"}\n",
        "dict5.clear()\n",
        "print(dict5)\n"
      ],
      "metadata": {
        "colab": {
          "base_uri": "https://localhost:8080/"
        },
        "id": "IkyNt9fP2wWS",
        "outputId": "36d3463b-18b0-41d9-be98-cc49cc8c077a"
      },
      "execution_count": 59,
      "outputs": [
        {
          "output_type": "stream",
          "name": "stdout",
          "text": [
            "{}\n"
          ]
        }
      ]
    },
    {
      "cell_type": "code",
      "source": [
        "#How do you retrieve all keys and values present in a dictionary?\n",
        "\n",
        "get_key=list(dict3.keys())\n",
        "print(get_key)\n",
        "get_value=list(dict3.values())\n",
        "print(get_value)"
      ],
      "metadata": {
        "colab": {
          "base_uri": "https://localhost:8080/"
        },
        "id": "8n9Zhldg3z5M",
        "outputId": "5c8b0a0e-b6c0-4775-ea9c-e4f848cee3c2"
      },
      "execution_count": 64,
      "outputs": [
        {
          "output_type": "stream",
          "name": "stdout",
          "text": [
            "[1, 2, 3, 4, 5]\n",
            "['Ali', 'Zara', 'Heera', 'Biboo', 'Kutty']\n"
          ]
        }
      ]
    }
  ]
}