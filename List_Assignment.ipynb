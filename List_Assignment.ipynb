{
  "nbformat": 4,
  "nbformat_minor": 0,
  "metadata": {
    "colab": {
      "provenance": [],
      "authorship_tag": "ABX9TyOUGcnTOiAJAfvD3d9a84lp",
      "include_colab_link": true
    },
    "kernelspec": {
      "name": "python3",
      "display_name": "Python 3"
    },
    "language_info": {
      "name": "python"
    }
  },
  "cells": [
    {
      "cell_type": "markdown",
      "metadata": {
        "id": "view-in-github",
        "colab_type": "text"
      },
      "source": [
        "<a href=\"https://colab.research.google.com/github/RajeswaryNadarajan/Pyhton-exercises/blob/main/List_Assignment.ipynb\" target=\"_parent\"><img src=\"https://colab.research.google.com/assets/colab-badge.svg\" alt=\"Open In Colab\"/></a>"
      ]
    },
    {
      "cell_type": "code",
      "source": [
        "#write a python code to print all the negative elements in a list\n",
        "\n",
        "list1= [56,-98,12,-38,76,51,23,34]\n",
        "for i in list1 :\n",
        "  if(i<0):\n",
        "    print(i)"
      ],
      "metadata": {
        "colab": {
          "base_uri": "https://localhost:8080/"
        },
        "id": "Zf1vC9gc1Sqk",
        "outputId": "45a39c2e-cf64-4e33-9a09-e8970620404a"
      },
      "execution_count": 9,
      "outputs": [
        {
          "output_type": "stream",
          "name": "stdout",
          "text": [
            "-98\n",
            "-38\n"
          ]
        }
      ]
    },
    {
      "cell_type": "code",
      "source": [
        " #write a python code to find sum of all list elements\n",
        "\n",
        "\n",
        "list1= [56,-98,12,-38,76,51,23,34]\n",
        "test_sum = 0\n",
        "\n",
        "for i in range (0,8):\n",
        "  test_sum = test_sum + list1[i]\n",
        "print  (test_sum)\n"
      ],
      "metadata": {
        "colab": {
          "base_uri": "https://localhost:8080/"
        },
        "id": "wjVGvrU41i6b",
        "outputId": "daf26525-5698-45e1-9c47-17c941782f05"
      },
      "execution_count": 10,
      "outputs": [
        {
          "output_type": "stream",
          "name": "stdout",
          "text": [
            "116\n"
          ]
        }
      ]
    },
    {
      "cell_type": "code",
      "source": [
        "#write a python code to find sum of all list elements\n",
        "\n",
        "list1= [56,-98,12,-38,76,51,23,34]\n",
        "test_sum = 0\n",
        "for i in list1:\n",
        "  test_sum = test_sum + i\n",
        "print(test_sum)\n"
      ],
      "metadata": {
        "colab": {
          "base_uri": "https://localhost:8080/"
        },
        "id": "GXgO1r-_3A1C",
        "outputId": "60717358-c277-4a9b-b9c1-bb394ed9bba0"
      },
      "execution_count": 15,
      "outputs": [
        {
          "output_type": "stream",
          "name": "stdout",
          "text": [
            "116\n"
          ]
        }
      ]
    },
    {
      "cell_type": "code",
      "source": [
        "# write a python script to find maximum and minimum  element in a list\n",
        "\n",
        "print(max(list1))\n",
        "print(min(list1))"
      ],
      "metadata": {
        "colab": {
          "base_uri": "https://localhost:8080/"
        },
        "id": "iG7e4JSj3h8f",
        "outputId": "d26eaaa8-c6d6-4794-b052-d1def94f5631"
      },
      "execution_count": 21,
      "outputs": [
        {
          "output_type": "stream",
          "name": "stdout",
          "text": [
            "76\n",
            "-98\n"
          ]
        }
      ]
    },
    {
      "cell_type": "code",
      "source": [
        "#write a code to find second largest element in list1\n",
        "\n",
        "list1= [56,-98,12,-38,76,51,23,34]\n",
        "list1.sort(reverse = True)\n",
        "second_largest_value=list11\n",
        "print(second_largest_value)"
      ],
      "metadata": {
        "colab": {
          "base_uri": "https://localhost:8080/"
        },
        "id": "ruGNiN5G4YxV",
        "outputId": "613c0192-84d7-451a-eafc-4e2b195967c0"
      },
      "execution_count": 23,
      "outputs": [
        {
          "output_type": "stream",
          "name": "stdout",
          "text": [
            "56\n"
          ]
        }
      ]
    },
    {
      "cell_type": "code",
      "source": [
        "#write a code to find second largest element in list1\n",
        "\n",
        "list1= [56,-98,12,-38,76,51,23,34]\n",
        "\n",
        "list1.sort(reverse = True)\n",
        "get_second_largest_value =list1[2]\n",
        "print(second_largest_value)"
      ],
      "metadata": {
        "colab": {
          "base_uri": "https://localhost:8080/"
        },
        "id": "tVRpdcPV5yaI",
        "outputId": "0a2d66b5-9766-4d69-cbdb-c857c4a83e80"
      },
      "execution_count": 28,
      "outputs": [
        {
          "output_type": "stream",
          "name": "stdout",
          "text": [
            "56\n"
          ]
        }
      ]
    },
    {
      "cell_type": "code",
      "source": [
        "#write a code to count total number of even and odd element in a list\n",
        "\n",
        "list1= [56,-98,12,-38,76,51,23,34]\n",
        "for i in list1:\n",
        "   if( i % 2== 0):\n",
        "     print(\"It's even :\",i)\n",
        "   else:\n",
        "      print(\"It's odd :\", i)\n",
        "\n"
      ],
      "metadata": {
        "colab": {
          "base_uri": "https://localhost:8080/"
        },
        "id": "3b40I-VN9GNR",
        "outputId": "8d9f405e-fdd9-4133-893f-7b5e3d825ea8"
      },
      "execution_count": 35,
      "outputs": [
        {
          "output_type": "stream",
          "name": "stdout",
          "text": [
            "It's even : 56\n",
            "It's even : -98\n",
            "It's even : 12\n",
            "It's even : -38\n",
            "It's even : 76\n",
            "It's odd : 51\n",
            "It's odd : 23\n",
            "It's even : 34\n"
          ]
        }
      ]
    },
    {
      "cell_type": "code",
      "source": [
        "#write a code to count total number of even and odd element in a list\n",
        "test_event =0\n",
        "test_odd= 0\n",
        "list1= [56,-98,12,-38,76,51,23,34]\n",
        "\n",
        "for i in list1:\n",
        "    if(i%2==0):\n",
        "      test_even= test_even + 1\n",
        "    else:\n",
        "      test_odd = test_odd + 1\n",
        "\n",
        "print (\"Even numbers :\",test_even)\n",
        "print (\"odd numbers :\",test_odd)\n",
        "\n"
      ],
      "metadata": {
        "colab": {
          "base_uri": "https://localhost:8080/"
        },
        "id": "U1mRwvi5-3pg",
        "outputId": "05625b32-f4a4-4f8a-dab3-43ecb1fba522"
      },
      "execution_count": 39,
      "outputs": [
        {
          "output_type": "stream",
          "name": "stdout",
          "text": [
            "Even numbers : 132\n",
            "odd numbers : 2\n"
          ]
        }
      ]
    },
    {
      "cell_type": "code",
      "source": [
        "#write a code to count total number of negative in a list\n",
        "\n",
        "negative_count= 0\n",
        "list1= [56,-98,12,-38,76,51,23,34]\n",
        "\n",
        "for i in list1:\n",
        "    if(i<0):\n",
        "        negative_count = negative_count+ 1\n",
        "print(negative_count)\n"
      ],
      "metadata": {
        "colab": {
          "base_uri": "https://localhost:8080/"
        },
        "id": "qKq-k7FGAkge",
        "outputId": "5f3c2422-21ae-4b10-e1ed-d21fd4b5e38c"
      },
      "execution_count": 42,
      "outputs": [
        {
          "output_type": "stream",
          "name": "stdout",
          "text": [
            "2\n"
          ]
        }
      ]
    },
    {
      "cell_type": "code",
      "source": [
        "#write a code to copy all elements from a list to another list\n",
        "\n",
        "list_1=[56,-98,12,-38,76,51,23,34]\n",
        "list_2 = list_1.copy()\n",
        "print(\"list_1 : \",list_1)\n",
        "print(\"list_2 : \",list_2)\n"
      ],
      "metadata": {
        "colab": {
          "base_uri": "https://localhost:8080/"
        },
        "id": "o_7nlZ9FA0zz",
        "outputId": "1d18e415-ca38-4fd3-9f4b-3b1b6d071a64"
      },
      "execution_count": 52,
      "outputs": [
        {
          "output_type": "stream",
          "name": "stdout",
          "text": [
            "list_1 :  [56, -98, 12, -38, 76, 51, 23, 34]\n",
            "list_2 :  [56, -98, 12, -38, 76, 51, 23, 34]\n"
          ]
        }
      ]
    },
    {
      "cell_type": "code",
      "source": [
        "#write a code to remove duplicate from list1\n",
        "\n",
        "list_3=[10,20,40,10,10,10,10,50]\n",
        "list_4=[]\n",
        "for i  in list_3 :\n",
        "    if i not in list_4:\n",
        "        list_4.append(i)\n",
        "print(list_4)\n",
        "\n",
        "\n"
      ],
      "metadata": {
        "colab": {
          "base_uri": "https://localhost:8080/"
        },
        "id": "6eXkW4-tFyBf",
        "outputId": "07da6ea8-8027-47d1-b20e-73283d27bdb3"
      },
      "execution_count": 55,
      "outputs": [
        {
          "output_type": "stream",
          "name": "stdout",
          "text": [
            "[10, 20, 40, 50]\n"
          ]
        }
      ]
    },
    {
      "cell_type": "code",
      "source": [
        "#write a code to remove duplicate from list_3\n",
        "\n",
        "list_3 = [10,10,10,20,40,20,60,80]\n",
        "list_4 =[]\n",
        "for i in list_3:\n",
        "  if i not in list_4:\n",
        "    list_4.append(i)\n",
        "print(list_4)"
      ],
      "metadata": {
        "colab": {
          "base_uri": "https://localhost:8080/"
        },
        "id": "wD7gFTjnHhyq",
        "outputId": "f01fc662-c952-4bb7-8eb5-2237ad2def28"
      },
      "execution_count": 58,
      "outputs": [
        {
          "output_type": "stream",
          "name": "stdout",
          "text": [
            "[10, 20, 40, 60, 80]\n"
          ]
        }
      ]
    },
    {
      "cell_type": "code",
      "source": [
        "#write a program to find the list of words that are longer than n from a given list of words\n",
        "\n",
        "n=4\n",
        "str=\"Find the List of Words that are Longer than n from a given List of Words\"\n",
        "new_list = []\n",
        "text = str.split(\" \")\n",
        "for x in text:\n",
        "\tif len(x) > n:\n",
        "\t\tnew_list.append(x)\n",
        "print(new_list)"
      ],
      "metadata": {
        "colab": {
          "base_uri": "https://localhost:8080/"
        },
        "id": "ykSWs-_YF9wP",
        "outputId": "6e2eec3e-ecea-4980-ad3a-69c3d4027b45"
      },
      "execution_count": 63,
      "outputs": [
        {
          "output_type": "stream",
          "name": "stdout",
          "text": [
            "['Words', 'Longer', 'given', 'Words']\n"
          ]
        }
      ]
    },
    {
      "cell_type": "code",
      "source": [
        "n=int(input(\"Enter the value : \"))\n",
        "\n",
        "str = \" My mom is on sick and she was admitted at goverment hospital \"\n",
        "list_5=[]\n",
        "text= str.split(\" \")\n",
        "for i in text :\n",
        "  if len(i) > n:\n",
        "    list_5.append(i)\n",
        "print(list_5)\n",
        "\n",
        "\n"
      ],
      "metadata": {
        "colab": {
          "base_uri": "https://localhost:8080/"
        },
        "id": "bW40df8bKsbC",
        "outputId": "220a3bfb-c4b8-42a8-905d-bc107bed73cd"
      },
      "execution_count": 66,
      "outputs": [
        {
          "output_type": "stream",
          "name": "stdout",
          "text": [
            "Enter the value : 3\n",
            "['sick', 'admitted', 'goverment', 'hospital']\n"
          ]
        }
      ]
    },
    {
      "cell_type": "code",
      "source": [
        "#write a program to get the frequency of elements i a list\n",
        "\n",
        "random_list = ['A', 'A', 'B', 'C', 'B', 'D', 'D', 'A', 'B']\n",
        "frequency = {}\n",
        "\n",
        "# iterating over the list\n",
        "for item in random_list:\n",
        "   # checking the element in dictionary\n",
        "   if item in frequency:\n",
        "      # incrementing the counr\n",
        "      frequency[item] += 1\n",
        "   else:\n",
        "      # initializing the count\n",
        "      frequency[item] = 1\n",
        "\n",
        "# printing the frequency\n",
        "print(frequency)\n",
        ""
      ],
      "metadata": {
        "colab": {
          "base_uri": "https://localhost:8080/"
        },
        "id": "yV4hKejYJu5K",
        "outputId": "834865fc-7646-4ac0-aa9c-9170a8db5019"
      },
      "execution_count": 79,
      "outputs": [
        {
          "output_type": "stream",
          "name": "stdout",
          "text": [
            "{'A': 3, 'B': 3, 'C': 1, 'D': 2}\n"
          ]
        }
      ]
    },
    {
      "cell_type": "code",
      "source": [
        "random_list = ['A', 'A', 'B', 'C', 'B', 'D', 'D', 'A', 'B']\n",
        "frequency = {}\n",
        "for item in random_list:\n",
        "  if item in frequency:\n",
        "      frequency[item] += 1\n",
        "  else:\n",
        "    frequency[item] = 1\n",
        "print(frequency)\n"
      ],
      "metadata": {
        "colab": {
          "base_uri": "https://localhost:8080/"
        },
        "id": "jssrcI_LThgV",
        "outputId": "24f4b811-f362-45b9-b783-c68c6cb65cdf"
      },
      "execution_count": 82,
      "outputs": [
        {
          "output_type": "stream",
          "name": "stdout",
          "text": [
            "{'A': 3, 'B': 3, 'C': 1, 'D': 2}\n"
          ]
        }
      ]
    },
    {
      "cell_type": "code",
      "source": [
        "#write a program to find common items from two lists\n",
        "common_items = 0\n",
        "list_c =[1,2,3,4,5,6]\n",
        "list_d =[1,2,3,7,8,0]\n",
        "\n",
        "print(set(list_c) & set(list_d))"
      ],
      "metadata": {
        "colab": {
          "base_uri": "https://localhost:8080/"
        },
        "id": "1Lin7tZaJzXj",
        "outputId": "0e61a81f-0f00-4025-ea91-d4ef9726eb49"
      },
      "execution_count": 87,
      "outputs": [
        {
          "output_type": "stream",
          "name": "stdout",
          "text": [
            "{1, 2, 3}\n"
          ]
        }
      ]
    }
  ]
}