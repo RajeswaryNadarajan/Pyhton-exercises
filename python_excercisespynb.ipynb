{
  "nbformat": 4,
  "nbformat_minor": 0,
  "metadata": {
    "colab": {
      "provenance": [],
      "authorship_tag": "ABX9TyM+6Ne3P2otPNt2TWgAlJe1",
      "include_colab_link": true
    },
    "kernelspec": {
      "name": "python3",
      "display_name": "Python 3"
    },
    "language_info": {
      "name": "python"
    }
  },
  "cells": [
    {
      "cell_type": "markdown",
      "metadata": {
        "id": "view-in-github",
        "colab_type": "text"
      },
      "source": [
        "<a href=\"https://colab.research.google.com/github/RajeswaryNadarajan/Pyhton-exercises/blob/main/python_excercisespynb.ipynb\" target=\"_parent\"><img src=\"https://colab.research.google.com/assets/colab-badge.svg\" alt=\"Open In Colab\"/></a>"
      ]
    },
    {
      "cell_type": "code",
      "execution_count": 5,
      "metadata": {
        "colab": {
          "base_uri": "https://localhost:8080/"
        },
        "id": "JBFEH7ByiI02",
        "outputId": "38d034ed-a4fd-4eba-9283-a399cdff0af9"
      },
      "outputs": [
        {
          "output_type": "stream",
          "name": "stdout",
          "text": [
            "Twinkle, twinkle, little star,\n",
            "\tHow I wonder what you are! \n",
            "\t\tUp above the world so high,\n",
            "\t\tLike a diamond in the sky.\n",
            "Twinkle, twinkle, little star,\n",
            "\tHow I wonder what you are\n"
          ]
        }
      ],
      "source": [
        "#Write a Python program to print the following string in a specific format (see the output).\n",
        "#Sample String : \"Twinkle, twinkle, little star, How I wonder what you are! Up above the world so high, Like a diamond in the sky. Twinkle, twinkle, little star, How I wonder what you are\"\n",
        "#Output :\n",
        "\n",
        "#Twinkle, twinkle, little star,\n",
        "\t#How I wonder what you are!\n",
        "\t\t#Up above the world so high,\n",
        "\t\t#Like a diamond in the sky.\n",
        "#Twinkle, twinkle, little star,\n",
        "\t##How I wonder what you are\n",
        "\n",
        "print(\"Twinkle, twinkle, little star,\\n\\tHow I wonder what you are! \\n\\t\\tUp above the world so high,\\n\\t\\tLike a diamond in the sky.\\nTwinkle, twinkle, little star,\\n\\tHow I wonder what you are\")\n",
        "\n",
        "\n"
      ]
    },
    {
      "cell_type": "code",
      "source": [
        "#Write a Python program to find out what version of Python you are using.\n",
        "import sys\n",
        "print(sys.version_info)\n",
        "print(sys.version)\n"
      ],
      "metadata": {
        "colab": {
          "base_uri": "https://localhost:8080/"
        },
        "id": "cWVavY8ckukA",
        "outputId": "6aedc47b-2e3b-4052-928a-0fe4654aeb13"
      },
      "execution_count": 16,
      "outputs": [
        {
          "output_type": "stream",
          "name": "stdout",
          "text": [
            "sys.version_info(major=3, minor=10, micro=12, releaselevel='final', serial=0)\n",
            "3.10.12 (main, Nov 20 2023, 15:14:05) [GCC 11.4.0]\n"
          ]
        }
      ]
    },
    {
      "cell_type": "code",
      "source": [
        "# Write a Python program to display the current date and time.\n",
        "\n",
        "import datetime\n",
        "\n",
        "time=datetime.datetime.now()\n",
        "print(time)\n",
        "\n"
      ],
      "metadata": {
        "colab": {
          "base_uri": "https://localhost:8080/"
        },
        "id": "FOfH9PoOk15p",
        "outputId": "65a7fbed-7248-46f1-cc2e-8609565cdefd"
      },
      "execution_count": 19,
      "outputs": [
        {
          "output_type": "stream",
          "name": "stdout",
          "text": [
            "2024-04-10 10:41:05.622474\n"
          ]
        }
      ]
    },
    {
      "cell_type": "code",
      "source": [
        "#Write a Python program that calculates the area of a circle based on the radius entered by the user.\n",
        "#Sample Output :\n",
        "#r = 1.1\n",
        "#Area = 3.8013271108436504\n",
        "from math import pi\n",
        "rad= float(input(\"Enter radius : \"))\n",
        "\n",
        "area= pi * rad **2\n",
        "\n",
        "print(\"Area of circle is : \",area)"
      ],
      "metadata": {
        "colab": {
          "base_uri": "https://localhost:8080/"
        },
        "id": "lyg-M9xRm1k8",
        "outputId": "3acb9d76-5b82-4ba0-a9c1-6294ef61efd2"
      },
      "execution_count": 30,
      "outputs": [
        {
          "output_type": "stream",
          "name": "stdout",
          "text": [
            "Enter radius : 1.1\n",
            "Area of circle is :  3.8013271108436504\n"
          ]
        }
      ]
    },
    {
      "cell_type": "code",
      "source": [
        " #Write a Python program that accepts the user's first and last name and prints them in reverse order with a space between them.\n",
        "\n",
        "str_1=input(\"Enter First_name : \")\n",
        "str_2=input(\"Enter last_name : \")\n",
        "\n",
        "print( \"Hello ,\", str_2 , str_1)"
      ],
      "metadata": {
        "colab": {
          "base_uri": "https://localhost:8080/"
        },
        "id": "coHf7GJPoTJo",
        "outputId": "1cfad3ac-937c-4e49-ee1a-027d4a350322"
      },
      "execution_count": 32,
      "outputs": [
        {
          "output_type": "stream",
          "name": "stdout",
          "text": [
            "Enter First_name : Rajeswary\n",
            "Enter last_name : Nadarajan\n",
            "Hello , Nadarajan Rajeswary\n"
          ]
        }
      ]
    },
    {
      "cell_type": "code",
      "source": [
        "#Write a Python program to display the first and last colors from the following list.\n",
        "\n",
        "color_list = [\"Red\",\"Green\",\"White\" ,\"Black\"]\n",
        "\n",
        "print(\"%s %s\" % (color_list[0],color_list[-1]))"
      ],
      "metadata": {
        "colab": {
          "base_uri": "https://localhost:8080/"
        },
        "id": "b3iFdWslNV4U",
        "outputId": "ef5d9f6a-0903-47ad-d9dc-880bea22b178"
      },
      "execution_count": 3,
      "outputs": [
        {
          "output_type": "stream",
          "name": "stdout",
          "text": [
            "Red Black\n"
          ]
        }
      ]
    },
    {
      "cell_type": "code",
      "source": [
        " # Write a Python program to display the examination schedule. (extract the date from exam_st_date).\n",
        "#exam_st_date = (11, 12, 2014)\n",
        "#Sample Output : The examination will start from : 11 / 12 / 2014\n",
        "\n",
        "\n",
        "exam_st_date = (11, 12, 2014)\n",
        "\n",
        "print(\"The examination will start from :%i / %i / %i \" % exam_st_date)\n",
        "#print(\"The examination will start from : %i / %i / %i\" % exam_st_dat"
      ],
      "metadata": {
        "colab": {
          "base_uri": "https://localhost:8080/"
        },
        "id": "Lnz_W74cOKqJ",
        "outputId": "8e4e44e8-fc27-4abf-a116-ebcfdbdd1c7e"
      },
      "execution_count": 11,
      "outputs": [
        {
          "output_type": "stream",
          "name": "stdout",
          "text": [
            "The examination will start from :11 / 12 / 2014 \n"
          ]
        }
      ]
    },
    {
      "cell_type": "code",
      "source": [
        "#Write a Python program that accepts an integer (n) and computes the value of n+nn+nnn.\n",
        "#Sample value of n is 5\n",
        "#Expected Result : 615\n",
        "\n",
        "num=int(input(\"Enter a number : \"))\n",
        "\n",
        "n_1=int(\"%s\" % num)\n",
        "n_2=int(\"%s%s\" % (num,num))\n",
        "n_3=int(\"%s%s%s\" %(num,num,num))\n",
        "\n",
        "print(n_1 +n_2 +n_3)\n",
        "\n",
        "#n1 = int(\"%s\" % a)          # Convert 'a' to an integer\n",
        "#n2 = int(\"%s%s\" % (a, a))   # Concatenate 'a' with itself and convert to an integer\n",
        "#n3 = int(\"%s%s%s\" % (a, a, a))\n",
        "\n"
      ],
      "metadata": {
        "colab": {
          "base_uri": "https://localhost:8080/"
        },
        "id": "f26HvZlvP1dq",
        "outputId": "116184ce-5e83-44e3-a222-2164a618f670"
      },
      "execution_count": 19,
      "outputs": [
        {
          "output_type": "stream",
          "name": "stdout",
          "text": [
            "Enter a number : 6\n",
            "738\n"
          ]
        }
      ]
    },
    {
      "cell_type": "code",
      "source": [],
      "metadata": {
        "id": "Ur6X1wT5Wtri"
      },
      "execution_count": null,
      "outputs": []
    },
    {
      "cell_type": "code",
      "source": [
        " #Write a Python program to calculate the number of days between two dates.\n",
        "##Sample dates : (2014, 7, 2), (2014, 7, 11)\n",
        "#Expected output : 9 days\n",
        "\n",
        "from datetime import date\n",
        "\n",
        "f_date=date(2014,7,2)\n",
        "l_date=date(2014,7,11)\n",
        "\n",
        "delta= l_date -f_date\n",
        "print(delta.days)"
      ],
      "metadata": {
        "colab": {
          "base_uri": "https://localhost:8080/"
        },
        "id": "dD4UpEQhWvQc",
        "outputId": "59ceb68c-f493-41e7-d218-6263e7ba4039"
      },
      "execution_count": 28,
      "outputs": [
        {
          "output_type": "stream",
          "name": "stdout",
          "text": [
            "9\n"
          ]
        }
      ]
    },
    {
      "cell_type": "code",
      "source": [
        "S# Write a Python program that prints the calendar for a given month and year.\n",
        "# : Use 'calendar' module.\n",
        "\n",
        "import calendar\n",
        "\n",
        "m=int(input(\"Enter the calendar month : \"))\n",
        "y=int(input(\"Enter the calendar year : \"))\n",
        "\n",
        "print(calendar.month(y,m))\n"
      ],
      "metadata": {
        "colab": {
          "base_uri": "https://localhost:8080/"
        },
        "id": "NovjWWYaU66O",
        "outputId": "663248a7-cae5-4ed8-db7b-a5575ed8037d"
      },
      "execution_count": 23,
      "outputs": [
        {
          "output_type": "stream",
          "name": "stdout",
          "text": [
            "Enter the calendar month : 3\n",
            "Enter the calendar year : 2024\n",
            "     March 2024\n",
            "Mo Tu We Th Fr Sa Su\n",
            "             1  2  3\n",
            " 4  5  6  7  8  9 10\n",
            "11 12 13 14 15 16 17\n",
            "18 19 20 21 22 23 24\n",
            "25 26 27 28 29 30 31\n",
            "\n"
          ]
        }
      ]
    },
    {
      "cell_type": "code",
      "source": [
        "# Prompt the user to input an integer and store it in the variable 'a'\n",
        "a = int(input(\"Input an integer: \"))\n",
        "\n",
        "# Create new integers 'n1', 'n2', and 'n3' by concatenating 'a' with itself one, two, and three times, respectively\n",
        "n1 = int(\"%s\" % a)          # Convert 'a' to an integer\n",
        "n2 = int(\"%s%s\" % (a, a))   # Concatenate 'a' with itself and convert to an integer\n",
        "n3 = int(\"%s%s%s\" % (a, a, a))  # Concatenate 'a' with itself twice and convert to an integer\n",
        "\n",
        "# Calculate the sum of 'n1', 'n2', and 'n3' and print the result\n",
        "print(n1 + n2 + n3)\n"
      ],
      "metadata": {
        "colab": {
          "base_uri": "https://localhost:8080/"
        },
        "id": "D7GKNX8CTizk",
        "outputId": "ef5366e1-ef30-43de-c0ad-72c0bf71e152"
      },
      "execution_count": 17,
      "outputs": [
        {
          "output_type": "stream",
          "name": "stdout",
          "text": [
            "Input an integer: 5\n",
            "615\n"
          ]
        }
      ]
    }
  ]
}