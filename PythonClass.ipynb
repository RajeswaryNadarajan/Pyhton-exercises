{
  "nbformat": 4,
  "nbformat_minor": 0,
  "metadata": {
    "colab": {
      "provenance": [],
      "authorship_tag": "ABX9TyNwx34N0a7NhZO/mrfx3+io",
      "include_colab_link": true
    },
    "kernelspec": {
      "name": "python3",
      "display_name": "Python 3"
    },
    "language_info": {
      "name": "python"
    }
  },
  "cells": [
    {
      "cell_type": "markdown",
      "metadata": {
        "id": "view-in-github",
        "colab_type": "text"
      },
      "source": [
        "<a href=\"https://colab.research.google.com/github/RajeswaryNadarajan/AmazonSalaes/blob/main/PythonClass.ipynb\" target=\"_parent\"><img src=\"https://colab.research.google.com/assets/colab-badge.svg\" alt=\"Open In Colab\"/></a>"
      ]
    },
    {
      "cell_type": "code",
      "execution_count": 1,
      "metadata": {
        "colab": {
          "base_uri": "https://localhost:8080/"
        },
        "id": "OAWys00jlIwi",
        "outputId": "00dce39e-43e8-4777-c67e-f1145146c584"
      },
      "outputs": [
        {
          "output_type": "stream",
          "name": "stdout",
          "text": [
            "Enter the first number:10\n",
            "Enter the second number:14\n",
            "1014\n"
          ]
        }
      ],
      "source": [
        "first_number = input( \"Enter the first number:\")\n",
        "second_number = input(\"Enter the second number:\")\n",
        "result= first_number + second_number\n",
        "print (result)"
      ]
    },
    {
      "cell_type": "code",
      "source": [
        "first_number = int(input(\"Enter the first number:\"))\n",
        "second_number = int(input(\"Enter the second number:\"))\n",
        "result= first_number + second_number\n",
        "print (result)"
      ],
      "metadata": {
        "colab": {
          "base_uri": "https://localhost:8080/"
        },
        "id": "QqO_sYNUpPCj",
        "outputId": "28bfde7c-59c7-455f-83e8-7e473b8ace5f"
      },
      "execution_count": 4,
      "outputs": [
        {
          "output_type": "stream",
          "name": "stdout",
          "text": [
            "Enter the first number:10\n",
            "Enter the second number:15\n",
            "25\n"
          ]
        }
      ]
    },
    {
      "cell_type": "code",
      "source": [
        "var1 =67\n",
        "var2= 34\n",
        "var3= 15\n",
        "result =(var1> var2) and ( var1 > var3)\n",
        "print(result)"
      ],
      "metadata": {
        "colab": {
          "base_uri": "https://localhost:8080/"
        },
        "id": "s7r6bAljquQg",
        "outputId": "c66f7a02-6a83-4686-a928-b3e44985ae05"
      },
      "execution_count": 6,
      "outputs": [
        {
          "output_type": "stream",
          "name": "stdout",
          "text": [
            "True\n"
          ]
        }
      ]
    },
    {
      "cell_type": "code",
      "source": [
        "var1 =67\n",
        "var2= 34\n",
        "var3= 15\n",
        "result =(var1> var2) and ( var1 < var3)\n",
        "print(result)"
      ],
      "metadata": {
        "colab": {
          "base_uri": "https://localhost:8080/"
        },
        "id": "sFd7AFXxquWW",
        "outputId": "73431f17-bc75-49d5-89bf-f7bb165fd02b"
      },
      "execution_count": 7,
      "outputs": [
        {
          "output_type": "stream",
          "name": "stdout",
          "text": [
            "False\n"
          ]
        }
      ]
    },
    {
      "cell_type": "code",
      "source": [
        "var1 =67\n",
        "var2= 34\n",
        "var3= 15\n",
        "result =(var1> var2) and ( var1 < var3) and ( var1 < var2)\n",
        "print(result)"
      ],
      "metadata": {
        "colab": {
          "base_uri": "https://localhost:8080/"
        },
        "id": "2Q4lYdFLroN4",
        "outputId": "639d1938-d646-42f9-ef36-64c1a5af99af"
      },
      "execution_count": 8,
      "outputs": [
        {
          "output_type": "stream",
          "name": "stdout",
          "text": [
            "False\n"
          ]
        }
      ]
    },
    {
      "cell_type": "code",
      "source": [
        "var1 =67\n",
        "var2= 34\n",
        "var3= 15\n",
        "result =(var1> var2) or ( var1 > var3)\n",
        "print(result)"
      ],
      "metadata": {
        "colab": {
          "base_uri": "https://localhost:8080/"
        },
        "id": "cCeAujkUsIF6",
        "outputId": "ad78cd75-85f8-453c-ee91-de87d71eba0c"
      },
      "execution_count": 9,
      "outputs": [
        {
          "output_type": "stream",
          "name": "stdout",
          "text": [
            "True\n"
          ]
        }
      ]
    },
    {
      "cell_type": "code",
      "source": [
        "var1 =67\n",
        "var2= 34\n",
        "var3= 15\n",
        "result =(var1> var2) or ( var1 < var3)\n",
        "print(result)"
      ],
      "metadata": {
        "colab": {
          "base_uri": "https://localhost:8080/"
        },
        "id": "uNEgmDJHsrH2",
        "outputId": "05d32c05-bcb5-42de-9e16-b1cd68399ba8"
      },
      "execution_count": 10,
      "outputs": [
        {
          "output_type": "stream",
          "name": "stdout",
          "text": [
            "True\n"
          ]
        }
      ]
    },
    {
      "cell_type": "code",
      "source": [
        "var1 =67\n",
        "var2= 34\n",
        "var3= 15\n",
        "result =(var1 < var2) or ( var1 < var3)\n",
        "print(result)"
      ],
      "metadata": {
        "colab": {
          "base_uri": "https://localhost:8080/"
        },
        "id": "KWhXK-XKswDZ",
        "outputId": "084ba944-3ee3-46e0-bf29-11d96aee2e19"
      },
      "execution_count": 11,
      "outputs": [
        {
          "output_type": "stream",
          "name": "stdout",
          "text": [
            "False\n"
          ]
        }
      ]
    },
    {
      "cell_type": "code",
      "source": [
        "var1 =67\n",
        "var2= 34\n",
        "var3= 15\n",
        "result =(var1> var2) or ( var1 < var3) or (var2 > var3)\n",
        "print(result)"
      ],
      "metadata": {
        "colab": {
          "base_uri": "https://localhost:8080/"
        },
        "id": "fnVBK7OdtecG",
        "outputId": "6ab3abd5-4114-49ed-99a3-b861c0c02caf"
      },
      "execution_count": 12,
      "outputs": [
        {
          "output_type": "stream",
          "name": "stdout",
          "text": [
            "True\n"
          ]
        }
      ]
    },
    {
      "cell_type": "code",
      "source": [
        "#if ..else statement\n",
        "\n",
        "first_num =20\n",
        "second_num = 20\n",
        "\n",
        "if (first_num > second_num):\n",
        "    print (\" Hi\")\n",
        "else:\n",
        "    print(\"bye\")"
      ],
      "metadata": {
        "colab": {
          "base_uri": "https://localhost:8080/"
        },
        "id": "fo0PpfIwu8GD",
        "outputId": "1300421b-c85f-4956-c1d1-819c248b84ba"
      },
      "execution_count": 15,
      "outputs": [
        {
          "output_type": "stream",
          "name": "stdout",
          "text": [
            "bye\n"
          ]
        }
      ]
    },
    {
      "cell_type": "code",
      "source": [
        "first_num = 30\n",
        "second_num = 20\n",
        "\n",
        "if (first_num > second_num):\n",
        "    print (\" Hi\")\n",
        "else:\n",
        "    print(\"bye\")"
      ],
      "metadata": {
        "colab": {
          "base_uri": "https://localhost:8080/"
        },
        "id": "XWFq7s80vYLu",
        "outputId": "1e230a67-9712-4cb3-ff61-116800f671e1"
      },
      "execution_count": 16,
      "outputs": [
        {
          "output_type": "stream",
          "name": "stdout",
          "text": [
            " Hi\n"
          ]
        }
      ]
    },
    {
      "cell_type": "code",
      "source": [
        "first_num = 30\n",
        "second_num = 20\n",
        "\n",
        "if (first_num >= second_num):\n",
        "    print (\" Hi\")\n",
        "else:\n",
        "    print(\"bye\")"
      ],
      "metadata": {
        "colab": {
          "base_uri": "https://localhost:8080/"
        },
        "id": "lJRRSNadvjQ3",
        "outputId": "4b56f1c6-11ca-4a6f-9bf6-b394dae54623"
      },
      "execution_count": 17,
      "outputs": [
        {
          "output_type": "stream",
          "name": "stdout",
          "text": [
            " Hi\n"
          ]
        }
      ]
    },
    {
      "cell_type": "code",
      "source": [
        "first_number = 40\n",
        "second_number = 20\n",
        "\n",
        "if (first_number < second_number):\n",
        "     print(\"First\")\n",
        "elif ( first_number > second_number):\n",
        "      print(\"Second\")\n",
        "elif ( first_number == second_number):\n",
        "      print(\"It's same\")\n",
        "else:\n",
        "      print(\"Third\")"
      ],
      "metadata": {
        "colab": {
          "base_uri": "https://localhost:8080/"
        },
        "id": "7Zx0ECGXwj1W",
        "outputId": "ae7a38bf-bbaf-489f-b273-666d30954e61"
      },
      "execution_count": 19,
      "outputs": [
        {
          "output_type": "stream",
          "name": "stdout",
          "text": [
            "Second\n"
          ]
        }
      ]
    },
    {
      "cell_type": "code",
      "source": [
        "first_number = 20\n",
        "second_number = 20\n",
        "\n",
        "if (first_number < second_number):\n",
        "     print(\"First\")\n",
        "elif ( first_number > second_number):\n",
        "      print(\"Second\")\n",
        "elif ( first_number == second_number):\n",
        "      print(\"It's same\")\n",
        "else:\n",
        "      print(\"Third\")"
      ],
      "metadata": {
        "colab": {
          "base_uri": "https://localhost:8080/"
        },
        "id": "QLJ0AlMjykMf",
        "outputId": "b5ee4e5d-5c6d-47c2-e114-58336640f358"
      },
      "execution_count": 20,
      "outputs": [
        {
          "output_type": "stream",
          "name": "stdout",
          "text": [
            "It's same\n"
          ]
        }
      ]
    },
    {
      "cell_type": "code",
      "source": [
        "age = int(input(\"Enter your age :\"))\n",
        "\n",
        "if (age>= 18):\n",
        "    print(\"You're an adult\")\n",
        "elif (age >= 13 and age <= 18):\n",
        "      print(\"You're an teenager\")\n",
        "\n",
        "else:\n",
        "      print (\"you're a kid\")\n",
        "\n"
      ],
      "metadata": {
        "colab": {
          "base_uri": "https://localhost:8080/"
        },
        "id": "zrZIGxnMyn7P",
        "outputId": "3fdb0ced-4026-4b9d-efaf-7d88e3bcd182"
      },
      "execution_count": 32,
      "outputs": [
        {
          "output_type": "stream",
          "name": "stdout",
          "text": [
            "Enter your age :6\n",
            "you're a kid\n"
          ]
        }
      ]
    },
    {
      "cell_type": "code",
      "source": [
        "age = int(input(\"Enter your age :\"))\n",
        "\n",
        "if (age>= 18):\n",
        "    print(\"You're eligible for vote\")\n",
        "else :\n",
        "      print(\"You're not eligible for vote\")\n",
        "\n"
      ],
      "metadata": {
        "colab": {
          "base_uri": "https://localhost:8080/"
        },
        "id": "Y3tbxhMi76Cu",
        "outputId": "ea068b68-a18e-4394-fb48-7458977f85e0"
      },
      "execution_count": 33,
      "outputs": [
        {
          "output_type": "stream",
          "name": "stdout",
          "text": [
            "Enter your age :6\n",
            "You're not eligible for vote\n"
          ]
        }
      ]
    },
    {
      "cell_type": "code",
      "source": [
        "age = int(input(\"Enter your age :\"))\n",
        "\n",
        "if (age>= 18):\n",
        "    print(\"You're eligible for vote !\")\n",
        "else :\n",
        "      print(\"You're not eligible for vote!\")\n"
      ],
      "metadata": {
        "colab": {
          "base_uri": "https://localhost:8080/"
        },
        "id": "UQKdJ5gv8NYv",
        "outputId": "ed76b268-f5f3-4920-9f02-feb58ceb5035"
      },
      "execution_count": 34,
      "outputs": [
        {
          "output_type": "stream",
          "name": "stdout",
          "text": [
            "Enter your age :26\n",
            "You're eligible for vote\n"
          ]
        }
      ]
    }
  ]
}