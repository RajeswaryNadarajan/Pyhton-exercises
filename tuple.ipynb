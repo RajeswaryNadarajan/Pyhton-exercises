{
  "nbformat": 4,
  "nbformat_minor": 0,
  "metadata": {
    "colab": {
      "provenance": [],
      "authorship_tag": "ABX9TyMB334jKpaaAaVXmIokQAhk",
      "include_colab_link": true
    },
    "kernelspec": {
      "name": "python3",
      "display_name": "Python 3"
    },
    "language_info": {
      "name": "python"
    }
  },
  "cells": [
    {
      "cell_type": "markdown",
      "metadata": {
        "id": "view-in-github",
        "colab_type": "text"
      },
      "source": [
        "<a href=\"https://colab.research.google.com/github/RajeswaryNadarajan/Pyhton-exercises/blob/main/tuple.ipynb\" target=\"_parent\"><img src=\"https://colab.research.google.com/assets/colab-badge.svg\" alt=\"Open In Colab\"/></a>"
      ]
    },
    {
      "cell_type": "code",
      "execution_count": 4,
      "metadata": {
        "colab": {
          "base_uri": "https://localhost:8080/"
        },
        "id": "FGAt894lfnkp",
        "outputId": "dda90bec-e96a-4f06-8d03-106011fb1655"
      },
      "outputs": [
        {
          "output_type": "execute_result",
          "data": {
            "text/plain": [
              "(6, 4, 3, 2, 1)"
            ]
          },
          "metadata": {},
          "execution_count": 4
        }
      ],
      "source": [
        "#Write a Python program to reverse a tuple ?\n",
        "my_tuple=(1,2,3,4,6)\n",
        "my_tuple[::-1]"
      ]
    },
    {
      "cell_type": "code",
      "source": [
        "#Write a Python program to print a tuple with string formatting.\n",
        "str1=\" \"\n",
        "my_tuple1=(100,200,300)\n",
        "for i in my_tuple1:\n",
        "  str1=str1+str(i)\n",
        "print(str1)\n",
        "\n"
      ],
      "metadata": {
        "colab": {
          "base_uri": "https://localhost:8080/"
        },
        "id": "eOxb8pQuf-xW",
        "outputId": "a16acedc-474f-48a7-f97f-c94b37d6cd86"
      },
      "execution_count": 10,
      "outputs": [
        {
          "output_type": "stream",
          "name": "stdout",
          "text": [
            " 100200300\n"
          ]
        }
      ]
    },
    {
      "cell_type": "code",
      "source": [
        "#Write a Python program to replace last value of tuples in a list.\n",
        "l= [(10, 20, 40), (40, 50, 60), (70, 80, 90)]\n",
        "#Expected Output: [(10, 20, 100), (40, 50, 100), (70, 80, 100)]\n",
        "\n",
        "print([i[:-1] + (100,) for i in l])"
      ],
      "metadata": {
        "colab": {
          "base_uri": "https://localhost:8080/"
        },
        "id": "_jDN2yI2gzEk",
        "outputId": "5b30fd90-b501-46b1-d751-500cca565296"
      },
      "execution_count": 9,
      "outputs": [
        {
          "output_type": "stream",
          "name": "stdout",
          "text": [
            "[(10, 20, 100), (40, 50, 100), (70, 80, 100)]\n"
          ]
        }
      ]
    },
    {
      "cell_type": "code",
      "source": [
        "# Write a Python program calculate the product, multiplying all the\n",
        "#numbers of a given tuple.\n",
        "#Original Tuple:\n",
        "\n",
        "#Product - multiplying all the numbers of the said tuple: -864\n",
        "#Original Tuple:\n",
        "\n",
        "#Product - multiplying all the numbers of the said tuple: 27648\n",
        "multiply = 1\n",
        "multiply_1 = 1\n",
        "tuple_1= (4, 3, 2, 2, -1, 18)\n",
        "for i in tuple_1:\n",
        "  multiply=multiply * i\n",
        "print(multiply )\n",
        "\n",
        "tuple_2 = (2, 4, 8, 8, 3, 2, 9)\n",
        "for i in tuple_2:\n",
        "  multiply_1=multiply_1 * i\n",
        "print(multiply_1 )"
      ],
      "metadata": {
        "colab": {
          "base_uri": "https://localhost:8080/"
        },
        "id": "iVykGgnGl0pi",
        "outputId": "00271173-4831-4feb-c98f-00d941979666"
      },
      "execution_count": 16,
      "outputs": [
        {
          "output_type": "stream",
          "name": "stdout",
          "text": [
            "-864\n",
            "27648\n"
          ]
        }
      ]
    },
    {
      "cell_type": "code",
      "source": [
        "#Write a Python program to convert a given tuple of positive integers into an integer.\n",
        "#Original tuple:\n",
        "#(1, 2, 3)\n",
        "#Convert the said tuple of positive integers into an integer:\n",
        "#123\n",
        "#Original tuple:\n",
        "#(10, 20, 40, 5, 70)\n",
        "#Convert the said tuple of positive integers into an integer:\n",
        "#102040570\n",
        "\n",
        "str_1=\" \"\n",
        "str_2=\" \"\n",
        "tup1=(1, 2, 3)\n",
        "for i in tup1:\n",
        "  str_1=str_1 + str(i)\n",
        "get_int=int(str_1)\n",
        "print(get_int)\n",
        "print(type(get_int))\n",
        "\n",
        "tup_2=(10, 20, 40, 5, 70)\n",
        "for i in tup_2:\n",
        "  str_2=str_2 + str(i)\n",
        "get_int=int(str_2)\n",
        "print(get_int)\n",
        "print(type(get_int))"
      ],
      "metadata": {
        "colab": {
          "base_uri": "https://localhost:8080/"
        },
        "id": "lqPc0F1gn0bg",
        "outputId": "49cd01f0-e74b-4c27-e5f3-07a5c89aaac6"
      },
      "execution_count": 23,
      "outputs": [
        {
          "output_type": "stream",
          "name": "stdout",
          "text": [
            "123\n",
            "<class 'int'>\n",
            "102040570\n",
            "<class 'int'>\n"
          ]
        }
      ]
    },
    {
      "cell_type": "code",
      "source": [
        " #Write a Python program to compute element-wise sum of given tuples.\n",
        "Original_lists=((1, 2, 3, 4),\n",
        "(3, 5, 2, 1),\n",
        "(2, 2, 3, 1) )\n",
        "\n",
        "\n",
        "x=(1, 2, 3, 4)\n",
        "y=(3, 5, 2, 1)\n",
        "z=(2, 2, 3, 1)\n",
        "\n",
        "#result=(map(sum(zip(x,y,z))))\n",
        "result = tuple(map(sum, zip(x, y, z)))\n",
        "print(result)"
      ],
      "metadata": {
        "colab": {
          "base_uri": "https://localhost:8080/"
        },
        "id": "9-vMjW8zrqcP",
        "outputId": "52c2a2be-167f-44cd-8cb5-948f908abc59"
      },
      "execution_count": 27,
      "outputs": [
        {
          "output_type": "stream",
          "name": "stdout",
          "text": [
            "(6, 9, 8, 6)\n"
          ]
        }
      ]
    }
  ]
}